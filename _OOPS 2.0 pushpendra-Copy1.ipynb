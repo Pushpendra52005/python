{
 "cells": [
  {
   "cell_type": "markdown",
   "id": "dd55d108",
   "metadata": {},
   "source": [
    "# OOPS\n",
    "- Object Oriented Programme Structure\n",
    "\n",
    "# TYPES OF OOPS\n",
    "\n",
    "<br>2- Encapsulation\n",
    "<br>2- Inheritance\n",
    "<br>3- Polymophism\n",
    "<br>4- Abstraction"
   ]
  },
  {
   "cell_type": "markdown",
   "id": "a6d2c423",
   "metadata": {},
   "source": [
    "# Inheritance\n",
    "\n",
    "## types of Inheritance\n",
    "\n",
    "<br>1- Single Inheritance\n",
    "<br>2- Multilevel Inheritance\n",
    "<br>3- Multiple Inheritance\n",
    "<br>4- Hierarchical Inheritance\n",
    "<br>5- Hybrid Inheritance"
   ]
  },
  {
   "cell_type": "markdown",
   "id": "cd8f27a3",
   "metadata": {},
   "source": [
    "# Parent Class=super class \n",
    "# Child Class=sub class"
   ]
  },
  {
   "cell_type": "markdown",
   "id": "31123f77",
   "metadata": {},
   "source": [
    "# super ()\n",
    "- the super () function is used to refer yo the parent class."
   ]
  },
  {
   "cell_type": "code",
   "execution_count": 1,
   "id": "ca2910a4",
   "metadata": {},
   "outputs": [
    {
     "name": "stdout",
     "output_type": "stream",
     "text": [
      "this is tech dept\n",
      "this is a programmer\n"
     ]
    }
   ],
   "source": [
    "class Tech_dept:\n",
    "    def descrip(self):\n",
    "        print(\"this is tech dept\")\n",
    "class programmer(Tech_dept):\n",
    "    \n",
    "    def descrip(self):\n",
    "        print(\"this is tech dept\")\n",
    "        print(\"this is a programmer\")\n",
    "tech1=programmer()\n",
    "tech1.descrip()"
   ]
  },
  {
   "cell_type": "code",
   "execution_count": 2,
   "id": "cea686c9",
   "metadata": {},
   "outputs": [
    {
     "name": "stdout",
     "output_type": "stream",
     "text": [
      "this is tech dept\n",
      "this is a programmer\n"
     ]
    }
   ],
   "source": [
    "class Tech_dept:\n",
    "    def descrip(self):\n",
    "        print(\"this is tech dept\")\n",
    "class programmer(Tech_dept):\n",
    "    \n",
    "    def descrip(self):\n",
    "        super().descrip()\n",
    "        \n",
    "        print(\"this is a programmer\")\n",
    "tech1=programmer()\n",
    "tech1.descrip()"
   ]
  },
  {
   "cell_type": "code",
   "execution_count": 15,
   "id": "86831998",
   "metadata": {
    "scrolled": true
   },
   "outputs": [
    {
     "name": "stdout",
     "output_type": "stream",
     "text": [
      "vidisha work in  google\n"
     ]
    }
   ],
   "source": [
    "class company:\n",
    "    def company_name(self):\n",
    "        return \"google\"\n",
    "class Employee(company):\n",
    "    def info(self):\n",
    "        c_name =super().company_name()\n",
    "        print(\"vidisha work in \",c_name)\n",
    "    \n",
    "        \n",
    "emp=Employee()\n",
    "emp.info()"
   ]
  },
  {
   "cell_type": "code",
   "execution_count": 8,
   "id": "e21b6683",
   "metadata": {},
   "outputs": [
    {
     "name": "stdout",
     "output_type": "stream",
     "text": [
      "vidisha work in \n"
     ]
    }
   ],
   "source": [
    "class company:\n",
    "    def company_name(self):\n",
    "        return \"google\"\n",
    "class Employee(company):\n",
    "    def info(self):\n",
    "        print(\"vidisha work in \")\n",
    "        super().company_name()\n",
    "        \n",
    "emp=Employee()\n",
    "emp.info()"
   ]
  },
  {
   "cell_type": "code",
   "execution_count": 16,
   "id": "c6809908",
   "metadata": {},
   "outputs": [
    {
     "name": "stdout",
     "output_type": "stream",
     "text": [
      "vidisha work in \n",
      "google\n"
     ]
    }
   ],
   "source": [
    "class company:\n",
    "    def company_name(self):\n",
    "        print(\"google\")\n",
    "              \n",
    "class Employee(company):\n",
    "    def info(self):\n",
    "        print(\"vidisha work in \")\n",
    "        super().company_name()\n",
    "        \n",
    "emp=Employee()\n",
    "emp.info()"
   ]
  },
  {
   "cell_type": "markdown",
   "id": "30d9aa6b",
   "metadata": {},
   "source": [
    " # Single Inheritance"
   ]
  },
  {
   "cell_type": "code",
   "execution_count": null,
   "id": "af081cf7",
   "metadata": {},
   "outputs": [],
   "source": []
  },
  {
   "cell_type": "raw",
   "id": "7c25ee08",
   "metadata": {},
   "source": [
    "                                    single inheritance\n",
    "                                             _\n",
    "                                            /|\\\n",
    "                                             |\n",
    "                                             |\n",
    "                                             |\n",
    "                                             |\n",
    "                                _____________|___________\n",
    "                                |                       |      \n",
    "                                |                       |\n",
    "                                |                       |\n",
    "                                |       ______________  |\n",
    "                                |       |             | | \n",
    "                                |       |Parent class | |\n",
    "                                |       |____________ | |\n",
    "                                |            _          |\n",
    "                                |           /|\\         |\n",
    "                                |            |          |\n",
    "                                |            |          |\n",
    "                                |            |          |\n",
    "                                |            |          |\n",
    "                                |            |          |\n",
    "                                |           \\|/         |\n",
    "                                |      _____________    |        \n",
    "                                |     |            |    |\n",
    "                                |     |Child class |    |\n",
    "                                |     |            |    |\n",
    "                                |     |____________|    |"
   ]
  },
  {
   "cell_type": "code",
   "execution_count": 20,
   "id": "776df034",
   "metadata": {},
   "outputs": [
    {
     "name": "stdout",
     "output_type": "stream",
     "text": [
      "inside Car class\n",
      "inside Vehicle class\n"
     ]
    }
   ],
   "source": [
    "# base class\n",
    "class Vehicle:\n",
    "    def Vehicle_info(self):\n",
    "        print(\"inside Vehicle class\")\n",
    "# child class\n",
    "class Car(Vehicle):\n",
    "    def Car_info(self):\n",
    "        print(\"inside Car class\")\n",
    "#create object of Car\n",
    "car=Car()\n",
    "# child class method calling\n",
    "car.Car_info()\n",
    "# parent class method calling\n",
    "car.Vehicle_info()"
   ]
  },
  {
   "cell_type": "code",
   "execution_count": 5,
   "id": "15deaf60",
   "metadata": {},
   "outputs": [
    {
     "name": "stdout",
     "output_type": "stream",
     "text": [
      "feature1 is running\n",
      "feature2 is running\n"
     ]
    }
   ],
   "source": [
    "class A:\n",
    "    def feature1(self):\n",
    "        print(\"feature1 is running\")\n",
    "    def feature2(self):\n",
    "        print(\"feature2 is running\")\n",
    "a1=A()\n",
    "a1.feature1()\n",
    "a1.feature2()"
   ]
  },
  {
   "cell_type": "code",
   "execution_count": 1,
   "id": "a9a506ef",
   "metadata": {
    "scrolled": true
   },
   "outputs": [
    {
     "name": "stdout",
     "output_type": "stream",
     "text": [
      "feature1 is running\n",
      "feature3 is running\n"
     ]
    },
    {
     "ename": "AttributeError",
     "evalue": "'A' object has no attribute 'feature3'",
     "output_type": "error",
     "traceback": [
      "\u001b[1;31m---------------------------------------------------------------------------\u001b[0m",
      "\u001b[1;31mAttributeError\u001b[0m                            Traceback (most recent call last)",
      "Cell \u001b[1;32mIn[1], line 16\u001b[0m\n\u001b[0;32m     13\u001b[0m a1\u001b[38;5;241m.\u001b[39mfeature3()\n\u001b[0;32m     15\u001b[0m a2\u001b[38;5;241m=\u001b[39mA()\n\u001b[1;32m---> 16\u001b[0m a2\u001b[38;5;241m.\u001b[39mfeature3()\n",
      "\u001b[1;31mAttributeError\u001b[0m: 'A' object has no attribute 'feature3'"
     ]
    }
   ],
   "source": [
    "class A:\n",
    "    def feature1(self):\n",
    "        print(\"feature1 is running\")\n",
    "    def feature2(self):\n",
    "        print(\"feature2 is running\")\n",
    "class B(A):\n",
    "    def feature3(self):\n",
    "        print(\"feature3 is running\")\n",
    "    def feature4(self):\n",
    "        print(\"feature4 is running\")   \n",
    "a1=B()\n",
    "a1.feature1()\n",
    "a1.feature3()\n",
    "\n",
    "a2=A()\n",
    "a2.feature3()"
   ]
  },
  {
   "cell_type": "code",
   "execution_count": 2,
   "id": "03ca3ed3",
   "metadata": {},
   "outputs": [
    {
     "name": "stdout",
     "output_type": "stream",
     "text": [
      "feature1 is running\n",
      "feature3 is running\n"
     ]
    }
   ],
   "source": [
    "class A:\n",
    "    def feature1(self):\n",
    "        print(\"feature1 is running\")\n",
    "    def feature2(self):\n",
    "        print(\"feature2 is running\")\n",
    "class B(A):\n",
    "    def feature3(self):\n",
    "        print(\"feature3 is running\")\n",
    "    def feature4(self):\n",
    "        print(\"feature4 is running\")   \n",
    "a1=B()\n",
    "a1.feature1()\n",
    "a1.feature3()"
   ]
  },
  {
   "cell_type": "code",
   "execution_count": null,
   "id": "22ba7612",
   "metadata": {},
   "outputs": [],
   "source": []
  },
  {
   "cell_type": "code",
   "execution_count": 3,
   "id": "c31f1bde",
   "metadata": {},
   "outputs": [
    {
     "name": "stdout",
     "output_type": "stream",
     "text": [
      "enter your amount: 3367\n",
      "acc number:12345678 holder name:pushpendra balance:196633\n"
     ]
    }
   ],
   "source": [
    "class bank:\n",
    "    def __init__(self,acc_num,holder_name,balance): \n",
    "        self.a=acc_num                                    \n",
    "        self.b=holder_name                               \n",
    "        self.c=balance   \n",
    "class current_acc(bank):  \n",
    "    def deposit(self):  \n",
    "        self.c=self.c+int(input(\"enter your amount: \"))  \n",
    "        print(f\"acc number:{self.a} holder name:{self.b} balance:{self.c}\") \n",
    "    def widrawl(self):  \n",
    "        self.c=self.c-int(input(\"enter your amount: \"))  \n",
    "        print(f\"acc number:{self.a} holder name:{self.b} balance:{self.c}\")\n",
    "    def display_balance(self) :\n",
    "        print(f\"acc number:{self.a} holder name:{self.b} balance:{self.c}\")\n",
    "a=current_acc(12345678,\"pushpendra\",200000)\n",
    "a.widrawl()"
   ]
  },
  {
   "cell_type": "markdown",
   "id": "389ea21b",
   "metadata": {},
   "source": [
    "# Multilevel inheritance"
   ]
  },
  {
   "cell_type": "code",
   "execution_count": 13,
   "id": "e28b672b",
   "metadata": {},
   "outputs": [
    {
     "name": "stdout",
     "output_type": "stream",
     "text": [
      "feature1 is running\n",
      "feature2 is running\n"
     ]
    }
   ],
   "source": [
    "class A:\n",
    "    def feature1(self):\n",
    "        print(\"feature1 is running\")\n",
    "    def feature2(self):\n",
    "        print(\"feature2 is running\")\n",
    "class B(A):\n",
    "    def feature3(self):\n",
    "        print(\"feature3 is running\")\n",
    "    def feature4(self):\n",
    "        print(\"feature4 is running\")\n",
    "class C(B):\n",
    "    def feature5(self):\n",
    "        print(\"feature5 is running\")\n",
    "    def feature6(self):\n",
    "        print(\"feature6 is running\")\n",
    "class D(C):\n",
    "    def feature7(self):\n",
    "        print(\"feature7 is running\")\n",
    "    def feature8(self):\n",
    "        print(\"feature8 is running\")      \n",
    "        \n",
    "a1=A()\n",
    "a1.feature1()\n",
    "a1.feature2()\n",
    "\n",
    "\n",
    "\n",
    "\n"
   ]
  },
  {
   "cell_type": "code",
   "execution_count": 14,
   "id": "e7107b39",
   "metadata": {},
   "outputs": [
    {
     "name": "stdout",
     "output_type": "stream",
     "text": [
      "feature1 is running\n",
      "feature2 is running\n",
      "feature3 is running\n",
      "feature4 is running\n"
     ]
    }
   ],
   "source": [
    "a2=B()\n",
    "a2.feature1()\n",
    "a2.feature2()\n",
    "a2.feature3()\n",
    "a2.feature4()"
   ]
  },
  {
   "cell_type": "code",
   "execution_count": 15,
   "id": "2835aa7b",
   "metadata": {},
   "outputs": [
    {
     "name": "stdout",
     "output_type": "stream",
     "text": [
      "feature1 is running\n",
      "feature2 is running\n",
      "feature3 is running\n",
      "feature4 is running\n",
      "feature5 is running\n",
      "feature6 is running\n"
     ]
    }
   ],
   "source": [
    "\n",
    "a3=C()\n",
    "a3.feature1()\n",
    "a3.feature2()\n",
    "a3.feature3()\n",
    "a3.feature4()\n",
    "a3.feature5()\n",
    "a3.feature6()"
   ]
  },
  {
   "cell_type": "code",
   "execution_count": 16,
   "id": "f0227085",
   "metadata": {},
   "outputs": [
    {
     "name": "stdout",
     "output_type": "stream",
     "text": [
      "feature1 is running\n",
      "feature2 is running\n",
      "feature3 is running\n",
      "feature4 is running\n",
      "feature5 is running\n",
      "feature6 is running\n",
      "feature7 is running\n",
      "feature8 is running\n"
     ]
    }
   ],
   "source": [
    "a4=D()\n",
    "a4.feature1()\n",
    "a4.feature2()\n",
    "a4.feature3()\n",
    "a4.feature4()\n",
    "a4.feature5()\n",
    "a4.feature6()\n",
    "a4.feature7()\n",
    "a4.feature8()"
   ]
  },
  {
   "cell_type": "markdown",
   "id": "161480d7",
   "metadata": {},
   "source": [
    "# Multiple Inheritance"
   ]
  },
  {
   "cell_type": "code",
   "execution_count": 21,
   "id": "e49e0ba4",
   "metadata": {},
   "outputs": [
    {
     "name": "stdout",
     "output_type": "stream",
     "text": [
      "feature5 is running\n"
     ]
    }
   ],
   "source": [
    "class A:\n",
    "    def feature1(self):\n",
    "        print(\"feature1 is running\")\n",
    "    def feature2(self):\n",
    "        print(\"feature2 is running\")\n",
    "class B(A):\n",
    "    def feature3(self):\n",
    "        print(\"feature3 is running\")\n",
    "    def feature4(self):\n",
    "        print(\"feature4 is running\")\n",
    "class C(B,A):\n",
    "    def feature5(self):\n",
    "        print(\"feature5 is running\")\n",
    "    def feature6(self):\n",
    "        print(\"feature6 is running\")\n",
    "class D(C):\n",
    "    def feature7(self):\n",
    "        print(\"feature7 is running\")\n",
    "    def feature8(self):\n",
    "        print(\"feature8 is running\")\n",
    "a1=D()\n",
    "a1.feature5()"
   ]
  },
  {
   "cell_type": "code",
   "execution_count": 4,
   "id": "df6788cb",
   "metadata": {},
   "outputs": [
    {
     "ename": "TypeError",
     "evalue": "Cannot create a consistent method resolution\norder (MRO) for bases A, B",
     "output_type": "error",
     "traceback": [
      "\u001b[1;31m---------------------------------------------------------------------------\u001b[0m",
      "\u001b[1;31mTypeError\u001b[0m                                 Traceback (most recent call last)",
      "Cell \u001b[1;32mIn[4], line 11\u001b[0m\n\u001b[0;32m      9\u001b[0m     \u001b[38;5;28;01mdef\u001b[39;00m \u001b[38;5;21mfeature4\u001b[39m(\u001b[38;5;28mself\u001b[39m):\n\u001b[0;32m     10\u001b[0m         \u001b[38;5;28mprint\u001b[39m(\u001b[38;5;124m\"\u001b[39m\u001b[38;5;124mfeature4 is running\u001b[39m\u001b[38;5;124m\"\u001b[39m)\n\u001b[1;32m---> 11\u001b[0m \u001b[38;5;28;01mclass\u001b[39;00m \u001b[38;5;21;01mC\u001b[39;00m(A,B):\n\u001b[0;32m     12\u001b[0m     \u001b[38;5;28;01mdef\u001b[39;00m \u001b[38;5;21mfeature5\u001b[39m(\u001b[38;5;28mself\u001b[39m):\n\u001b[0;32m     13\u001b[0m         \u001b[38;5;28mprint\u001b[39m(\u001b[38;5;124m\"\u001b[39m\u001b[38;5;124mfeature5 is running\u001b[39m\u001b[38;5;124m\"\u001b[39m)\n",
      "\u001b[1;31mTypeError\u001b[0m: Cannot create a consistent method resolution\norder (MRO) for bases A, B"
     ]
    }
   ],
   "source": [
    "class A:\n",
    "    def feature1(self):\n",
    "        print(\"feature1 is running\")\n",
    "    def feature2(self):\n",
    "        print(\"feature2 is running\")\n",
    "class B(A):\n",
    "    def feature3(self):\n",
    "        print(\"feature3 is running\")\n",
    "    def feature4(self):\n",
    "        print(\"feature4 is running\")\n",
    "class C(A,B):\n",
    "    def feature5(self):\n",
    "        print(\"feature5 is running\")\n",
    "    def feature6(self):\n",
    "        print(\"feature6 is running\")\n",
    "class D(C,B,A):\n",
    "    def feature7(self):\n",
    "        print(\"feature7 is running\")\n",
    "    def feature8(self):\n",
    "        print(\"feature8 is running\")\n",
    "a1=D()\n",
    "a1.feature5()"
   ]
  },
  {
   "cell_type": "markdown",
   "id": "a6f17d0f",
   "metadata": {},
   "source": [
    "#  Hierarchical Inheritance"
   ]
  },
  {
   "cell_type": "code",
   "execution_count": 2,
   "id": "4c8ab382",
   "metadata": {},
   "outputs": [
    {
     "name": "stdout",
     "output_type": "stream",
     "text": [
      "feature3 is running\n",
      "feature1 is running\n"
     ]
    }
   ],
   "source": [
    "class A:\n",
    "    def feature1(self):\n",
    "        print(\"feature1 is running\")\n",
    "    def feature2(self):\n",
    "        print(\"feature2 is running\")\n",
    "class B():\n",
    "    def feature3(self):\n",
    "        print(\"feature3 is running\")\n",
    "    def feature4(self):\n",
    "        print(\"feature4 is running\")\n",
    "class C(A,B):\n",
    "    def feature5(self):\n",
    "        print(\"feature5 is running\")\n",
    "    def feature6(self):\n",
    "        print(\"feature6 is running\")\n",
    "c1=C()        \n",
    "c1.feature3()\n",
    "c1.feature1()"
   ]
  },
  {
   "cell_type": "code",
   "execution_count": null,
   "id": "b0d55dc1",
   "metadata": {},
   "outputs": [],
   "source": []
  },
  {
   "cell_type": "markdown",
   "id": "6b0b2bac",
   "metadata": {},
   "source": [
    "# Hybrid Inheritance"
   ]
  },
  {
   "cell_type": "code",
   "execution_count": 3,
   "id": "d158690f",
   "metadata": {},
   "outputs": [
    {
     "name": "stdout",
     "output_type": "stream",
     "text": [
      "Name is Suryansh Joshi and he is  youngest Data Scientist in google and he is 18 years only.\n"
     ]
    }
   ],
   "source": [
    "#progress of Hybrid Inheritance\n",
    "\n",
    "class Employee:# class Employee\n",
    "    company=\"xyz company\" # class variable                      # (by default Encapsulation OOPS)\n",
    "    def __init__(self,name,profession,year):# constructor\n",
    "        self.x=name     # instance variable or attribute variable\n",
    "        self.y=profession \n",
    "        self.z=year\n",
    "    def show(self):  # show method define\n",
    "             print(f'Name is {self.x} and he is  youngest {self.y} in google and he is {self.z} years only.')\n",
    "        # print command\n",
    "# create a object        \n",
    "a=Employee(\"Suryansh Joshi\",\"Data Scientist\",18)        \n",
    "\n",
    "a.show()   # show method calling"
   ]
  },
  {
   "cell_type": "code",
   "execution_count": 9,
   "id": "2965ad8a",
   "metadata": {},
   "outputs": [
    {
     "name": "stdout",
     "output_type": "stream",
     "text": [
      "Name is Suryansh Joshi and he is  youngest Data Scientist in google and he is 18 years only.\n",
      " Name is  Suryansh Joshi \n",
      " And he is yongest Data Scientist in google \n",
      " And he is 18 year only.\n"
     ]
    }
   ],
   "source": [
    "#progress of Hybrid Inheritance\n",
    "\n",
    "# single Inheritance\n",
    "\n",
    "class Employee:# class Employee\n",
    "    company=\"xyz company\" # class variable                      \n",
    "    def __init__(self,name,profession,year):# constructor\n",
    "        self.x=name     # instance variable or attribute variable\n",
    "        self.y=profession \n",
    "        self.z=year\n",
    "    def show(self):  # show method define\n",
    "             print(f'Name is {self.x} and he is  youngest {self.y} in google and he is {self.z} years only.')\n",
    "class Employee2(Employee):\n",
    "    def display(self):\n",
    "        print(f' Name is  {self.x} \\n And he is yongest {self.y} in google \\n And he is {self.z} year only.')\n",
    "a=Employee2(\"Suryansh Joshi\",\"Data Scientist\",18)\n",
    "a.show()\n",
    "a.display()\n",
    "        \n",
    "        "
   ]
  },
  {
   "cell_type": "code",
   "execution_count": 13,
   "id": "5e8f7ab1",
   "metadata": {},
   "outputs": [
    {
     "name": "stdout",
     "output_type": "stream",
     "text": [
      "Name is Suryansh Joshi and he is  youngest Data Scientist in google and he is 18 years only\n",
      " And salary is 200000.\n",
      " Name is  Suryansh Joshi \n",
      " And he is yongest Data Scientist in google \n",
      " And he is 18 year only.\n",
      "Name is Suryansh Joshi and he is  youngest Data Scientist in google and he is 18 years only.\n"
     ]
    }
   ],
   "source": [
    "#progress of Hybrid Inheritance\n",
    "\n",
    "# single Inheritance\n",
    "# Multilevel Inhertance\n",
    "\n",
    "class Employee:# class Employee\n",
    "    company=\"xyz company\" # class variable                      \n",
    "    def __init__(self,name,profession,year):# constructor\n",
    "        self.x=name     # instance variable or attribute variable\n",
    "        self.y=profession \n",
    "        self.z=year\n",
    "    def show(self):  # show method define\n",
    "             print(f'Name is {self.x} and he is  youngest {self.y} in google and he is {self.z} years only.')\n",
    "class Employee2(Employee):\n",
    "    def display(self):\n",
    "        print(f' Name is  {self.x} \\n And he is yongest {self.y} in google \\n And he is {self.z} year only.')\n",
    "class Employee3(Employee2):\n",
    "    def Employee_info(self):\n",
    "        self.salary=200000\n",
    "        print(f'Name is {self.x} and he is  youngest {self.y} in google and he is {self.z} years only\\n And salary is {self.salary}.')\n",
    "a=Employee3(\"Suryansh Joshi\",\"Data Scientist\",18)   \n",
    "a.Employee_info()\n",
    "a.display()\n",
    "a.show()"
   ]
  },
  {
   "cell_type": "code",
   "execution_count": 16,
   "id": "f8c5efed",
   "metadata": {},
   "outputs": [
    {
     "name": "stdout",
     "output_type": "stream",
     "text": [
      "Name is Suryansh Joshi and he is  youngest Data Scientist in google and he is 18 years only\n",
      " And salary is 200000.\n",
      " Name is  Suryansh Joshi \n",
      " And he is yongest Data Scientist in google \n",
      " And he is 18 year only.\n",
      "Name is Suryansh Joshi and he is  youngest Data Scientist in google and he is 18 years only.\n",
      "Name is Suryansh Joshi and he is  youngest Data Scientist in google and he is 18 years only\n",
      " And salary is 200000 plus bonus  201000.\n"
     ]
    }
   ],
   "source": [
    "#progress of Hybrid Inheritance\n",
    "\n",
    "# single Inheritance\n",
    "# Multilevel Inheritance\n",
    "# multiple Inheritance part 1\n",
    "\n",
    "class Employee:# class Employee\n",
    "    company=\"xyz company\" # class variable                      \n",
    "    def __init__(self,name,profession,year):# constructor\n",
    "        self.x=name     # instance variable or attribute variable\n",
    "        self.y=profession \n",
    "        self.z=year\n",
    "    def show(self):  # show method define\n",
    "             print(f'Name is {self.x} and he is  youngest {self.y} in google and he is {self.z} years only.')\n",
    "class Employee2(Employee):\n",
    "    def display(self):\n",
    "        print(f' Name is  {self.x} \\n And he is yongest {self.y} in google \\n And he is {self.z} year only.')\n",
    "class Employee3(Employee2):\n",
    "    def Employee_info(self):\n",
    "        self.salary=200000\n",
    "        print(f'Name is {self.x} and he is  youngest {self.y} in google and he is {self.z} years only\\n And salary is {self.salary}.')\n",
    "class Employee4(Employee3):\n",
    "    def Employee4_info(self):\n",
    "        self.bonus=1000\n",
    "        self.bonus+=self.salary\n",
    "        print(f'Name is {self.x} and he is  youngest {self.y} in google and he is {self.z} years only\\n And salary is {self.salary} plus bonus  {self.bonus}.')\n",
    "a=Employee4(\"Suryansh Joshi\",\"Data Scientist\",18)   \n",
    "a.Employee_info()\n",
    "a.display()\n",
    "a.show() \n",
    "a.Employee4_info()"
   ]
  },
  {
   "cell_type": "code",
   "execution_count": 26,
   "id": "42f87f9d",
   "metadata": {},
   "outputs": [
    {
     "name": "stdout",
     "output_type": "stream",
     "text": [
      "Name is Suryansh Joshi and he is  youngest Data Scientist in google and he is 18 years only\n",
      " And salary is 200000.\n",
      " Name is  Suryansh Joshi \n",
      " And he is yongest Data Scientist in google \n",
      " And he is 18 year only.\n",
      "Name is Suryansh Joshi and he is  youngest Data Scientist in google and he is 18 years only.\n",
      "Name is Suryansh Joshi and he is  youngest Data Scientist in google and he is 18 years only\n",
      " And salary is 200000 plus bonus  201000.\n",
      "Name is Suryansh Joshi and he is  youngest Data Scientist in google and he is 18 years only\n",
      " And salary is 200000  insurence amount- 199000.\n"
     ]
    }
   ],
   "source": [
    "#progress of Hybrid Inheritance\n",
    "\n",
    "# single Inheritance\n",
    "# Multilevel Inheritance\n",
    "# multiple Inheritance part 1\n",
    "# multiple Inheritance part 2\n",
    "# finally Hybrid Inheritance complete\n",
    "\n",
    "class Employee:# class Employee\n",
    "    company=\"xyz company\" # class variable                      \n",
    "    def __init__(self,name,profession,year):# constructor\n",
    "        self.x=name     # instance variable or attribute variable\n",
    "        self.y=profession \n",
    "        self.z=year\n",
    "    def show(self):  # show method define\n",
    "             print(f'Name is {self.x} and he is  youngest {self.y} in google and he is {self.z} years only.')\n",
    "class Employee2(Employee):\n",
    "    def display(self):\n",
    "        print(f' Name is  {self.x} \\n And he is yongest {self.y} in google \\n And he is {self.z} year only.')\n",
    "class Employee3(Employee2):\n",
    "    def Employee_info(self):\n",
    "        self.salary=200000\n",
    "        print(f'Name is {self.x} and he is  youngest {self.y} in google and he is {self.z} years only\\n And salary is {self.salary}.')\n",
    "class Employee4(Employee3):\n",
    "    def Employee4_info(self):\n",
    "        self.bonus=1000\n",
    "        self.bonus+=self.salary\n",
    "        print(f'Name is {self.x} and he is  youngest {self.y} in google and he is {self.z} years only\\n And salary is {self.salary} plus bonus  {self.bonus}.')\n",
    "class Employee5(Employee4,Employee3):\n",
    "    def Employee5_info(self):\n",
    "        self.insurence=2000\n",
    "        self.bonus-=self.insurence\n",
    "        print(f'Name is {self.x} and he is  youngest {self.y} in google and he is {self.z} years only\\n And salary is {self.salary}  insurence amount- {self.bonus}.')\n",
    "        \n",
    "a=Employee5(\"Suryansh Joshi\",\"Data Scientist\",18)   \n",
    "a.Employee_info()\n",
    "a.display()\n",
    "a.show() \n",
    "a.Employee4_info()\n",
    "a.Employee5_info()"
   ]
  },
  {
   "cell_type": "code",
   "execution_count": null,
   "id": "0834fd98",
   "metadata": {},
   "outputs": [],
   "source": []
  },
  {
   "cell_type": "markdown",
   "id": "64e4d48a",
   "metadata": {},
   "source": [
    "# Constructor(special method or magic method or initialize method)"
   ]
  },
  {
   "cell_type": "code",
   "execution_count": 17,
   "id": "c4ed207a",
   "metadata": {},
   "outputs": [
    {
     "name": "stdout",
     "output_type": "stream",
     "text": [
      "in a init\n"
     ]
    }
   ],
   "source": [
    "class A:\n",
    "    def __init__(self):\n",
    "        print(\"in a init\")\n",
    "    def feature1(self):\n",
    "        print(\"feature1 is running\")\n",
    "    def feature2(self):\n",
    "        print(\"feature2 is running\")\n",
    "class B(A):\n",
    "    def feature3(self):\n",
    "        print(\"feature3 is running\")\n",
    "    def feature4(self):\n",
    "        print(\"feature4 is running\")   \n",
    "a1=B()        # object of B is calling constructor of A"
   ]
  },
  {
   "cell_type": "markdown",
   "id": "16ee3086",
   "metadata": {},
   "source": [
    "# Method overriding\n",
    "- Method overriding is a powerful feature that allows you to redefine a method of the parent class in the child class.\n",
    "<br> When a child class method has the same name ,same parameters,and same return type as a method in its parent class,then the method in the child is said to override th method in the parent class."
   ]
  },
  {
   "cell_type": "code",
   "execution_count": 27,
   "id": "598e04e6",
   "metadata": {},
   "outputs": [],
   "source": [
    "class parentclass:\n",
    "    pass\n",
    "class childclass(parentclass):\n",
    "    pass"
   ]
  },
  {
   "cell_type": "code",
   "execution_count": 28,
   "id": "476da9ea",
   "metadata": {},
   "outputs": [
    {
     "name": "stdout",
     "output_type": "stream",
     "text": [
      "this is Dog class\n"
     ]
    }
   ],
   "source": [
    "class Animal:\n",
    "    def show_name(self):\n",
    "        print(\"this is Animal class\")\n",
    "class Dog(Animal):\n",
    "    def show_name(self):               # overriding child method\n",
    "        print(\"this is Dog class\")\n",
    "dog1=Dog()\n",
    "dog1.show_name()"
   ]
  },
  {
   "cell_type": "code",
   "execution_count": null,
   "id": "706e2861",
   "metadata": {},
   "outputs": [],
   "source": [
    "    "
   ]
  },
  {
   "cell_type": "markdown",
   "id": "82c52cb0",
   "metadata": {},
   "source": [
    "# Method Resolution Order\n",
    "- it is the order in which methods are searchedfor an object.\n",
    "- Object he is default classs in python"
   ]
  },
  {
   "cell_type": "code",
   "execution_count": 6,
   "id": "d5850806",
   "metadata": {},
   "outputs": [
    {
     "name": "stdout",
     "output_type": "stream",
     "text": [
      "hello\n"
     ]
    }
   ],
   "source": [
    "class A:\n",
    "    def process(self):\n",
    "        print(\"In class A\")\n",
    "class B(A):                   # instance class A\n",
    "    def process(self):        \n",
    "        print(\"in class B\")\n",
    "        \n",
    "class C(A):\n",
    "    def process(self):\n",
    "        print(\"in class C\")\n",
    "class D(B,C,A):\n",
    "    def process(self):\n",
    "        print(\"hello\")\n",
    " # cteaing object\n",
    "c1=D()\n",
    "c1.process()\n",
    "    "
   ]
  },
  {
   "cell_type": "code",
   "execution_count": 25,
   "id": "39bc2e0a",
   "metadata": {},
   "outputs": [
    {
     "name": "stdout",
     "output_type": "stream",
     "text": [
      "in class C\n"
     ]
    }
   ],
   "source": [
    "class A:\n",
    "    def process(self):\n",
    "        print(\"In class A\")\n",
    "class B(A):                   # instance class A\n",
    "    def process(self):        \n",
    "        print(\"in class B\")\n",
    "class C(B,A):\n",
    "    def process(self):\n",
    "        print(\"in class C\")\n",
    " # cteaing object\n",
    "c1=C()\n",
    "c1.process()\n"
   ]
  },
  {
   "cell_type": "code",
   "execution_count": 7,
   "id": "62025a97",
   "metadata": {},
   "outputs": [
    {
     "name": "stdout",
     "output_type": "stream",
     "text": [
      "ok\n"
     ]
    }
   ],
   "source": [
    "class A:\n",
    "    def process(self):\n",
    "        print(\"In class A\")\n",
    "class B(A):                   # instance class A\n",
    "    def process(self):        \n",
    "        print(\"in class B\")\n",
    "class C(B):\n",
    "    def procs(self):\n",
    "        print(\"in class C\")\n",
    "class D(C,B,A) :\n",
    "    def procs(self):\n",
    "        print(\"ok\")\n",
    " # cteaing object\n",
    "c1=D()\n",
    "c1.procs()"
   ]
  },
  {
   "cell_type": "code",
   "execution_count": 26,
   "id": "dc75e242",
   "metadata": {
    "scrolled": true
   },
   "outputs": [
    {
     "name": "stdout",
     "output_type": "stream",
     "text": [
      "in class C\n"
     ]
    },
    {
     "ename": "AttributeError",
     "evalue": "'C' object has no attribute 'mro'",
     "output_type": "error",
     "traceback": [
      "\u001b[1;31m---------------------------------------------------------------------------\u001b[0m",
      "\u001b[1;31mAttributeError\u001b[0m                            Traceback (most recent call last)",
      "Cell \u001b[1;32mIn[26], line 13\u001b[0m\n\u001b[0;32m     11\u001b[0m c1\u001b[38;5;241m=\u001b[39mC()\n\u001b[0;32m     12\u001b[0m c1\u001b[38;5;241m.\u001b[39mprocess()\n\u001b[1;32m---> 13\u001b[0m \u001b[38;5;28mprint\u001b[39m(c1\u001b[38;5;241m.\u001b[39mmro())\n",
      "\u001b[1;31mAttributeError\u001b[0m: 'C' object has no attribute 'mro'"
     ]
    }
   ],
   "source": [
    "class A:\n",
    "    def process(self):\n",
    "        print(\"In class A\")\n",
    "class B(A):                   # instance class A\n",
    "    def process(self):        \n",
    "        print(\"in class B\")\n",
    "class C(B,A):\n",
    "    def process(self):\n",
    "        print(\"in class C\")\n",
    " # cteaing object\n",
    "c1=C()\n",
    "c1.process()\n",
    "print(c1.mro())"
   ]
  },
  {
   "cell_type": "code",
   "execution_count": 28,
   "id": "728bf3b9",
   "metadata": {},
   "outputs": [
    {
     "name": "stdout",
     "output_type": "stream",
     "text": [
      "in class C\n",
      "[<class '__main__.C'>, <class '__main__.B'>, <class '__main__.A'>, <class 'object'>]\n",
      "\n",
      "\n",
      "(<class '__main__.C'>, <class '__main__.B'>, <class '__main__.A'>, <class 'object'>)\n"
     ]
    }
   ],
   "source": [
    "class A:\n",
    "    def process(self):\n",
    "        print(\"In class A\")\n",
    "class B(A):                   # instance class A\n",
    "    def process(self):        \n",
    "        print(\"in class B\")\n",
    "class C(B,A):\n",
    "    def process(self):\n",
    "        print(\"in class C\")\n",
    " # cteaing object\n",
    "c1=C()\n",
    "c1.process()\n",
    "print(C.mro())\n",
    "print(\"\\n\")\n",
    "print(C.__mro__)"
   ]
  },
  {
   "cell_type": "code",
   "execution_count": 20,
   "id": "8016b8dc",
   "metadata": {},
   "outputs": [
    {
     "data": {
      "text/plain": [
       "(__main__.C, __main__.B, __main__.A, object)"
      ]
     },
     "execution_count": 20,
     "metadata": {},
     "output_type": "execute_result"
    }
   ],
   "source": [
    "C.__mro__    # this is method resolution order(mro)"
   ]
  },
  {
   "cell_type": "code",
   "execution_count": 21,
   "id": "dfc6a0f2",
   "metadata": {},
   "outputs": [
    {
     "data": {
      "text/plain": [
       "(__main__.B, __main__.A, object)"
      ]
     },
     "execution_count": 21,
     "metadata": {},
     "output_type": "execute_result"
    }
   ],
   "source": [
    "B.__mro__"
   ]
  },
  {
   "cell_type": "code",
   "execution_count": 22,
   "id": "4e5eeceb",
   "metadata": {
    "scrolled": true
   },
   "outputs": [
    {
     "data": {
      "text/plain": [
       "(__main__.A, object)"
      ]
     },
     "execution_count": 22,
     "metadata": {},
     "output_type": "execute_result"
    }
   ],
   "source": [
    "A.__mro__\n",
    "# all class inherit object class"
   ]
  },
  {
   "cell_type": "code",
   "execution_count": 23,
   "id": "2ce87a9d",
   "metadata": {},
   "outputs": [
    {
     "name": "stdout",
     "output_type": "stream",
     "text": [
      "<class 'type'>\n"
     ]
    }
   ],
   "source": [
    "print(type(A))   # all classes is type class"
   ]
  },
  {
   "cell_type": "code",
   "execution_count": 40,
   "id": "a5905024",
   "metadata": {},
   "outputs": [
    {
     "data": {
      "text/plain": [
       "__main__.C"
      ]
     },
     "execution_count": 40,
     "metadata": {},
     "output_type": "execute_result"
    }
   ],
   "source": [
    "type(c1)"
   ]
  },
  {
   "cell_type": "code",
   "execution_count": 41,
   "id": "1394fe80",
   "metadata": {},
   "outputs": [
    {
     "name": "stdout",
     "output_type": "stream",
     "text": [
      "<class 'function'>\n"
     ]
    }
   ],
   "source": [
    "def my_func():\n",
    "    pass\n",
    "print(type(my_func))"
   ]
  },
  {
   "cell_type": "markdown",
   "id": "2d81f8d3",
   "metadata": {},
   "source": [
    "# Encapsulation \n",
    "- Encapsulation involves bundling of data (attributes) and (Function)(Methods) with in a single unit\n",
    "- Encapsulation is a way to restrict access to methods and attributes from outside of class\n",
    "-  Whenever we are working with the class and dealing with sensitive data ,providing access to all variables used within the class is not a good choice."
   ]
  },
  {
   "cell_type": "markdown",
   "id": "0ec5bc01",
   "metadata": {},
   "source": [
    "# what is Encapsulation  in python?\n",
    "<br> Encapsulation in python describes the concept of bundling data and methos within a single unit. So,for example ,when you create a class ,it means  you are implementing encapsulation .A class  an example of encapsulation as it binds all the  data members (instance variables)and methods into a single unit."
   ]
  },
  {
   "cell_type": "markdown",
   "id": "5a05f988",
   "metadata": {},
   "source": [
    "# Access Modifiers in Python\n",
    "<br>1- Access modifiers limit access to the attributes and methods of a class.\n",
    "<br>2- Python provides three types of access modifiers public,private,protected."
   ]
  },
  {
   "cell_type": "markdown",
   "id": "62aa1034",
   "metadata": {},
   "source": [
    "Encapsulation can be achieved by declaring  the data members and methods of a class either as private or protected .but  in python ,we don't have direct access modifiers like public,parivate and protected.we can achievethis by using single underscore and double underscores\n",
    "<br> Access modifiers limit access to the variable and methods of a class.python provides three types of access modifiers private,public and protected.\n",
    "- Public Member=Accessible anywhere from outside of class.\n",
    "- Private Member= Accessible within the class.\n",
    "- Protected Member= Accessible within the class and its sub -classes."
   ]
  },
  {
   "cell_type": "raw",
   "id": "40cea095",
   "metadata": {},
   "source": [
    "class Employee:\n",
    "    def __init__(self,name,project,salary):\n",
    "        self.x=name      \n",
    "        # public member(accessible within or outside of a clss)\n",
    "        self._y=project \n",
    "        # protected member(accessible within the class and its sub-classes)\n",
    "        self.__z=salary\n",
    "        # private member(accessible within the class) "
   ]
  },
  {
   "cell_type": "markdown",
   "id": "42dae02b",
   "metadata": {},
   "source": [
    "# Summarize the Access Modifiers\n",
    "- private-*Least Access * Best Encapsulation\n",
    "- protected- Some Access Moderate Encapsulation\n",
    "- public- @full access to Encapsulation"
   ]
  },
  {
   "cell_type": "code",
   "execution_count": null,
   "id": "75757f5d",
   "metadata": {},
   "outputs": [],
   "source": []
  },
  {
   "cell_type": "code",
   "execution_count": null,
   "id": "024fdbbc",
   "metadata": {},
   "outputs": [],
   "source": []
  },
  {
   "cell_type": "code",
   "execution_count": null,
   "id": "a5c4d8bb",
   "metadata": {},
   "outputs": [],
   "source": []
  },
  {
   "cell_type": "markdown",
   "id": "125033f3",
   "metadata": {},
   "source": [
    "# Public member\n",
    "<br>1- Accessiable within inside and outside of a class.\n",
    "<br>2- All Variables and methods are public by default. "
   ]
  },
  {
   "cell_type": "code",
   "execution_count": 1,
   "id": "a9bf6173",
   "metadata": {},
   "outputs": [
    {
     "name": "stdout",
     "output_type": "stream",
     "text": [
      "18\n",
      "suryansh 18\n"
     ]
    }
   ],
   "source": [
    "class Aspirant:   # create a class  name is Aspirant\n",
    "    def __init__(self,name,age): #  it is contructor\n",
    "        # public attributes\n",
    "        self.name=name                                  # this is a public member\n",
    "        self.age=age\n",
    "    def show(self): # behaviour instance method\n",
    "        print(self.name,self.age)  # print statement\n",
    "A=Aspirant(\"suryansh\",18)  # object created\n",
    "print(A.age)\n",
    "A.show()# show () method ko call kiya     "
   ]
  },
  {
   "cell_type": "markdown",
   "id": "6a980cfd",
   "metadata": {},
   "source": [
    "# Private member\n",
    "\n"
   ]
  },
  {
   "cell_type": "code",
   "execution_count": 25,
   "id": "78c6644b",
   "metadata": {},
   "outputs": [
    {
     "name": "stdout",
     "output_type": "stream",
     "text": [
      "suryansh 18\n"
     ]
    },
    {
     "ename": "AttributeError",
     "evalue": "'Aspirant' object has no attribute '__age'",
     "output_type": "error",
     "traceback": [
      "\u001b[1;31m---------------------------------------------------------------------------\u001b[0m",
      "\u001b[1;31mAttributeError\u001b[0m                            Traceback (most recent call last)",
      "Cell \u001b[1;32mIn[25], line 13\u001b[0m\n\u001b[0;32m     11\u001b[0m A\u001b[38;5;241m.\u001b[39mshow()\u001b[38;5;66;03m# show method call And  method is running because private method only work inside a block\u001b[39;00m\n\u001b[0;32m     12\u001b[0m         \u001b[38;5;66;03m# of cade and istance method\u001b[39;00m\n\u001b[1;32m---> 13\u001b[0m \u001b[38;5;28mprint\u001b[39m(A\u001b[38;5;241m.\u001b[39m__age)\n",
      "\u001b[1;31mAttributeError\u001b[0m: 'Aspirant' object has no attribute '__age'"
     ]
    }
   ],
   "source": [
    "class Aspirant:   # class aspirant\n",
    "    def __init__(self,name,age):  # contructor use\n",
    "        # public attributes\n",
    "        self.name=name          \n",
    "        # private attributes\n",
    "        self.__age=age\n",
    "    def show(self):# instance method\n",
    "        print(self.name,self.__age)# print command\n",
    "A=Aspirant(\"suryansh\",18)# create object\n",
    "\n",
    "A.show()# show method call And  method is running because private method only work inside a block\n",
    "        # of cade and istance method\n",
    "print(A.__age)#out of the class private attributes user not access\n",
    "# and given attribute error like this----object has no attributes\n"
   ]
  },
  {
   "cell_type": "code",
   "execution_count": 14,
   "id": "5c10c87c",
   "metadata": {},
   "outputs": [
    {
     "name": "stdout",
     "output_type": "stream",
     "text": [
      "suryansh 18\n"
     ]
    }
   ],
   "source": [
    "class Aspirant:   # class aspirant\n",
    "    def __init__(self,name,age):  # contructor use\n",
    "        # public attributes\n",
    "        self.name=name          \n",
    "        # private attributes\n",
    "        self.__age=age\n",
    "    def show(self):# instance public method\n",
    "              # private member are accessible from a class\n",
    "        print(self.name,self.__age)\n",
    "    \n",
    "        \n",
    "\n",
    "\n",
    "A=Aspirant(\"suryansh\",18)\n",
    "A.show()"
   ]
  },
  {
   "cell_type": "markdown",
   "id": "e010d588",
   "metadata": {},
   "source": [
    "we can access private members from outside of a class using the following two approaches\n",
    "- Create public method to access private members\n",
    "- Use name mangling\n",
    "- Let's see each one by one"
   ]
  },
  {
   "cell_type": "markdown",
   "id": "08aa546d",
   "metadata": {},
   "source": [
    "# public method to access private members\n",
    "<br> Example : Access private members outside of a class using an instance method"
   ]
  },
  {
   "cell_type": "code",
   "execution_count": 15,
   "id": "615bea96",
   "metadata": {},
   "outputs": [
    {
     "name": "stdout",
     "output_type": "stream",
     "text": [
      "suryansh 18\n"
     ]
    }
   ],
   "source": [
    "class Aspirant:   # class aspirant\n",
    "    def __init__(self,name,age):  # contructor use\n",
    "        # public attributes\n",
    "        self.name=name          \n",
    "        # private attributes\n",
    "        self.__age=age\n",
    "    def show(self):# instance public method\n",
    "              # private member are accessible from a class\n",
    "        print(self.name,self.__age)\n",
    "    \n",
    "        \n",
    "# creating a object\n",
    "A=Aspirant(\"suryansh\",18)\n",
    "A.show()"
   ]
  },
  {
   "cell_type": "markdown",
   "id": "c4e25f3e",
   "metadata": {},
   "source": [
    "# Name Mangling\n",
    "<br>Merge=Object+_class name+__Private Attributes"
   ]
  },
  {
   "cell_type": "code",
   "execution_count": 3,
   "id": "1d234d3d",
   "metadata": {},
   "outputs": [
    {
     "name": "stdout",
     "output_type": "stream",
     "text": [
      "name suryansh\n",
      "18\n"
     ]
    }
   ],
   "source": [
    "class Aspirant:   # class aspirant\n",
    "    def __init__(self,name,age):  # contructor use\n",
    "        # public attributes\n",
    "        self.__name=name          \n",
    "        # private attributes\n",
    "        self.__age=age\n",
    "    def show(self):# instance public method\n",
    "              # private member are accessible from a class\n",
    "        print(self.name,self.__age)\n",
    "    \n",
    "        \n",
    "# creating a object\n",
    "A=Aspirant(\"suryansh\",18)\n",
    "print(\"name\",A._Aspirant__name)\n",
    "\n",
    "# direct access to private member using name mangling\n",
    "print(A._Aspirant__age)\n"
   ]
  },
  {
   "cell_type": "code",
   "execution_count": null,
   "id": "341497c8",
   "metadata": {},
   "outputs": [],
   "source": []
  },
  {
   "cell_type": "markdown",
   "id": "e99d631d",
   "metadata": {},
   "source": [
    "# Protected member"
   ]
  },
  {
   "cell_type": "code",
   "execution_count": 50,
   "id": "8351b70c",
   "metadata": {},
   "outputs": [
    {
     "name": "stdout",
     "output_type": "stream",
     "text": [
      "suryansh 18\n",
      "18\n"
     ]
    },
    {
     "data": {
      "text/plain": [
       "18"
      ]
     },
     "execution_count": 50,
     "metadata": {},
     "output_type": "execute_result"
    }
   ],
   "source": [
    "class Aspirant:\n",
    "    def __init__(self,name,age):\n",
    "        # public attributes\n",
    "        self.name=name\n",
    "        self._age=age\n",
    "    def show(self):\n",
    "        print(self.name,self._age)\n",
    "A=Aspirant(\"suryansh\",18)\n",
    "\n",
    "A.show()\n",
    "print(A._age)\n",
    "A._age"
   ]
  },
  {
   "cell_type": "markdown",
   "id": "f7c0e6e9",
   "metadata": {},
   "source": [
    "# del"
   ]
  },
  {
   "cell_type": "code",
   "execution_count": 4,
   "id": "aeae94a9",
   "metadata": {},
   "outputs": [
    {
     "name": "stdout",
     "output_type": "stream",
     "text": [
      "suryansh 18\n",
      "18\n",
      "suryansh\n"
     ]
    },
    {
     "ename": "AttributeError",
     "evalue": "'Aspirant' object has no attribute 'name'",
     "output_type": "error",
     "traceback": [
      "\u001b[1;31m---------------------------------------------------------------------------\u001b[0m",
      "\u001b[1;31mAttributeError\u001b[0m                            Traceback (most recent call last)",
      "Cell \u001b[1;32mIn[4], line 15\u001b[0m\n\u001b[0;32m     13\u001b[0m \u001b[38;5;28mprint\u001b[39m(A\u001b[38;5;241m.\u001b[39mname)\n\u001b[0;32m     14\u001b[0m \u001b[38;5;28;01mdel\u001b[39;00m A\u001b[38;5;241m.\u001b[39mname   \u001b[38;5;66;03m# del ka use\u001b[39;00m\n\u001b[1;32m---> 15\u001b[0m A\u001b[38;5;241m.\u001b[39mname\n",
      "\u001b[1;31mAttributeError\u001b[0m: 'Aspirant' object has no attribute 'name'"
     ]
    }
   ],
   "source": [
    "class Aspirant:    #create a class\n",
    "    def __init__(self,name,age):  # used contructor\n",
    "        # public attributes\n",
    "        self.name=name\n",
    "        self.age=age\n",
    "    def show(self):# instance method\n",
    "        print(self.name,self.age)# print command\n",
    "A=Aspirant(\"suryansh\",18)  # creating a object\n",
    "\n",
    "A.show()  # calling a method\n",
    "#print attributes\n",
    "print(A.age)\n",
    "print(A.name)\n",
    "del A.name   # del ka use\n",
    "A.name# repeate attribute call but python is given attribute error"
   ]
  },
  {
   "cell_type": "code",
   "execution_count": 5,
   "id": "90453cbb",
   "metadata": {},
   "outputs": [
    {
     "name": "stdout",
     "output_type": "stream",
     "text": [
      "name swifte model 2023 color red\n"
     ]
    }
   ],
   "source": [
    "# programme with contructor\n",
    "class vehicle:\n",
    "    def __init__(self,name,model,color):\n",
    "        self.x=name\n",
    "        self.y=model\n",
    "        self.z=color\n",
    "    def show(self):\n",
    "        print(\"name\",self.x,\"model\",self.y,\"color\",self.z)\n",
    "car=vehicle(\"swifte\",2023,\"red\")\n",
    "car.show()"
   ]
  },
  {
   "cell_type": "code",
   "execution_count": 6,
   "id": "2605a9aa",
   "metadata": {},
   "outputs": [
    {
     "name": "stdout",
     "output_type": "stream",
     "text": [
      "name swifte model 2023 color red\n"
     ]
    }
   ],
   "source": [
    "# programme without contructor\n",
    "class vehicle:\n",
    "    pass\n",
    "class car(vehicle):\n",
    "    def __init__(self,name,model,color):\n",
    "        self.x=name\n",
    "        self.y=model\n",
    "        self.z=color\n",
    "        \n",
    "        \n",
    "    def show(self):\n",
    "        print(\"name\",self.x,\"model\",self.y,\"color\",self.z)\n",
    "car1=car(\"swifte\",2023,\"red\")\n",
    "car1.show()"
   ]
  },
  {
   "cell_type": "code",
   "execution_count": 10,
   "id": "a82b0385",
   "metadata": {},
   "outputs": [
    {
     "data": {
      "text/plain": [
       "True"
      ]
     },
     "execution_count": 10,
     "metadata": {},
     "output_type": "execute_result"
    }
   ],
   "source": [
    "a=12\n",
    "b=12\n",
    "a is b"
   ]
  },
  {
   "cell_type": "code",
   "execution_count": 11,
   "id": "ebf310e3",
   "metadata": {},
   "outputs": [
    {
     "data": {
      "text/plain": [
       "True"
      ]
     },
     "execution_count": 11,
     "metadata": {},
     "output_type": "execute_result"
    }
   ],
   "source": [
    "a=12\n",
    "b=12\n",
    "b is a"
   ]
  },
  {
   "cell_type": "code",
   "execution_count": 13,
   "id": "5eefd338",
   "metadata": {},
   "outputs": [
    {
     "data": {
      "text/plain": [
       "True"
      ]
     },
     "execution_count": 13,
     "metadata": {},
     "output_type": "execute_result"
    }
   ],
   "source": [
    "a=256     # only 256 tk =256 true \n",
    "          # but 256 above number is false in variable form\n",
    "b=256\n",
    "a is b"
   ]
  },
  {
   "cell_type": "code",
   "execution_count": 22,
   "id": "738b44ba",
   "metadata": {},
   "outputs": [
    {
     "name": "stdout",
     "output_type": "stream",
     "text": [
      "140724937667336\n",
      "140724937667336\n"
     ]
    },
    {
     "data": {
      "text/plain": [
       "True"
      ]
     },
     "execution_count": 22,
     "metadata": {},
     "output_type": "execute_result"
    }
   ],
   "source": [
    "a=256\n",
    "print(id(a))\n",
    "\n",
    "b=256\n",
    "print(id(b))\n",
    "b is a\n"
   ]
  },
  {
   "cell_type": "code",
   "execution_count": 23,
   "id": "09fb0299",
   "metadata": {},
   "outputs": [
    {
     "name": "stdout",
     "output_type": "stream",
     "text": [
      "184955600944\n",
      "184955601136\n"
     ]
    },
    {
     "data": {
      "text/plain": [
       "False"
      ]
     },
     "execution_count": 23,
     "metadata": {},
     "output_type": "execute_result"
    }
   ],
   "source": [
    "a=257\n",
    "print(id(a))\n",
    "b=257\n",
    "print(id(b))\n",
    "a is b"
   ]
  },
  {
   "cell_type": "code",
   "execution_count": 19,
   "id": "58d36c4b",
   "metadata": {},
   "outputs": [
    {
     "data": {
      "text/plain": [
       "False"
      ]
     },
     "execution_count": 19,
     "metadata": {},
     "output_type": "execute_result"
    }
   ],
   "source": [
    "a=257\n",
    "b=257\n",
    "b is a"
   ]
  },
  {
   "cell_type": "markdown",
   "id": "07be4488",
   "metadata": {},
   "source": [
    "# Polymorphism with inheritance"
   ]
  },
  {
   "cell_type": "code",
   "execution_count": 4,
   "id": "015d2df6",
   "metadata": {
    "scrolled": true
   },
   "outputs": [
    {
     "name": "stdout",
     "output_type": "stream",
     "text": [
      "detail x1 red 2000000\n",
      "car max speed is 200\n",
      "car change 7 gear\n",
      "detail truck white 70000\n",
      "Vehicle max speed is 150\n",
      "Vehicle change 6 gear\n"
     ]
    }
   ],
   "source": [
    "class Vehicle:\n",
    "    def __init__(self,name,color,price):\n",
    "        self.n=name\n",
    "        self.c=color\n",
    "        self.p=price\n",
    "    def show(self):\n",
    "        print(\"detail\",self.n,self.c,self.p)\n",
    "        \n",
    "    def max_speed(self):\n",
    "        print(\"Vehicle max speed is 150\")\n",
    "    def change_gear(self):\n",
    "        print(\"Vehicle change 6 gear\")\n",
    "class Car(Vehicle):\n",
    "    def max_speed(self):\n",
    "        print(\"car max speed is 200\")\n",
    "    def change_gear(self):\n",
    "        print(\"car change 7 gear\")\n",
    "# car object\n",
    "c=Car(\"x1\",\"red\",2000000)\n",
    "c.show()\n",
    "# calls methods from a car class\n",
    "c.max_speed()\n",
    "c.change_gear()\n",
    "# vehicle object\n",
    "vehicle=Vehicle(\"truck\",\"white\",70000)\n",
    "vehicle.show()\n",
    "vehicle.max_speed()\n",
    "vehicle.change_gear()"
   ]
  },
  {
   "cell_type": "markdown",
   "id": "a8fbb057",
   "metadata": {},
   "source": [
    "# OVERRRIDE built in function"
   ]
  },
  {
   "cell_type": "code",
   "execution_count": 5,
   "id": "e19b62b8",
   "metadata": {},
   "outputs": [
    {
     "name": "stdout",
     "output_type": "stream",
     "text": [
      "Redefine  length\n",
      "6\n"
     ]
    }
   ],
   "source": [
    "class shopping:\n",
    "    def __init__(self,basket,buyer):\n",
    "        self.x=basket\n",
    "        self.y=buyer\n",
    "    def __len__(self):\n",
    "        print(\"Redefine  length\")\n",
    "        count=len(self.x)\n",
    "        # count total items in a different way\n",
    "        # pair of shoes and dress in shirt+pant\n",
    "        return count*3\n",
    "Shopping=shopping([\"shoes\",\"dress\"],\"vidisha\")\n",
    "print(len(Shopping))"
   ]
  },
  {
   "cell_type": "code",
   "execution_count": null,
   "id": "4915689c",
   "metadata": {},
   "outputs": [],
   "source": [
    "###### Polymorphism in class method"
   ]
  },
  {
   "cell_type": "code",
   "execution_count": 15,
   "id": "5ce9c1d4",
   "metadata": {},
   "outputs": [
    {
     "name": "stdout",
     "output_type": "stream",
     "text": [
      "petrol\n",
      "max speed 340\n",
      "diesel\n",
      "max speed 240\n"
     ]
    }
   ],
   "source": [
    "class Ferrari:\n",
    "    def fuel_type(self):\n",
    "        print(\"petrol\")\n",
    "    def max_speed(self):\n",
    "        print(\"max speed 340\")\n",
    "class BMW:\n",
    "    def fuel_type(self):\n",
    "        print(\"diesel\")\n",
    "    def max_speed(self):\n",
    "        print(\"max speed 240\")    \n",
    "ferrari=Ferrari()\n",
    "bmw=BMW()\n",
    "# iterrate objects of same type\n",
    "for car in (ferrari,bmw):\n",
    "    # call methods without checking class object\n",
    "    car.fuel_type()\n",
    "    car.max_speed()"
   ]
  },
  {
   "cell_type": "markdown",
   "id": "1fb1b28c",
   "metadata": {},
   "source": [
    "# polymorphism with functions and objects"
   ]
  },
  {
   "cell_type": "code",
   "execution_count": 9,
   "id": "f3fb1935",
   "metadata": {},
   "outputs": [
    {
     "name": "stdout",
     "output_type": "stream",
     "text": [
      "petrol\n",
      "max speed 340\n",
      "diesel\n",
      "max speed 240\n"
     ]
    }
   ],
   "source": [
    "class Ferrari:\n",
    "    def fuel_type(self):\n",
    "        print(\"petrol\")\n",
    "    def max_speed(self):\n",
    "        print(\"max speed 340\")\n",
    "class BMW:\n",
    "    def fuel_type(self):\n",
    "        print(\"diesel\")\n",
    "    def max_speed(self):\n",
    "        print(\"max speed 240\")\n",
    "#normal function\n",
    "def car_details(obj):\n",
    "    obj.fuel_type()\n",
    "    obj.max_speed()\n",
    "ferrari=Ferrari()\n",
    "bmw=BMW()\n",
    "\n",
    "\n",
    "car_details(ferrari)\n",
    "car_details(bmw)"
   ]
  },
  {
   "cell_type": "markdown",
   "id": "e4e2ab9f",
   "metadata": {},
   "source": [
    "# polymorphism  in Built in methods\n",
    "The built - in function reveresed(obj) returns the iterable by reversing the given object. For example ,if you pass a string to it ,it will reverse it.But if you pass a list of strings to it,it will return the iterable by reversing the order of elements (it will not reverse the individual string)."
   ]
  },
  {
   "cell_type": "code",
   "execution_count": 28,
   "id": "1486d44f",
   "metadata": {},
   "outputs": [
    {
     "name": "stdout",
     "output_type": "stream",
     "text": [
      "[[3, 2, 1]]\n"
     ]
    }
   ],
   "source": [
    "class A:\n",
    "    def __init__(self,attribute):\n",
    "        self.attribute=attribute\n",
    "    def __reversed__(self):\n",
    "        result=self.attribute[1]\n",
    "        print([result[::-1]])\n",
    "a=A(['disha',[1,2,3],\"neeraj\"])\n",
    "a.__reversed__()\n"
   ]
  },
  {
   "cell_type": "code",
   "execution_count": null,
   "id": "4602eebc",
   "metadata": {},
   "outputs": [],
   "source": []
  },
  {
   "cell_type": "code",
   "execution_count": 32,
   "id": "173cdaca",
   "metadata": {},
   "outputs": [
    {
     "name": "stdout",
     "output_type": "stream",
     "text": [
      "i\n"
     ]
    }
   ],
   "source": [
    "class A:\n",
    "    def __init__(self,attribute):\n",
    "        self.attribute=attribute\n",
    "    def __str__(self):\n",
    "        result=self.attribute[1]\n",
    "        print(result[::-1])\n",
    "a=A('disha')\n",
    "a.__str__()"
   ]
  },
  {
   "cell_type": "code",
   "execution_count": null,
   "id": "a8ec177b",
   "metadata": {},
   "outputs": [],
   "source": []
  },
  {
   "cell_type": "code",
   "execution_count": null,
   "id": "4c895983",
   "metadata": {},
   "outputs": [],
   "source": []
  },
  {
   "cell_type": "code",
   "execution_count": null,
   "id": "6f75f8bc",
   "metadata": {},
   "outputs": [],
   "source": []
  },
  {
   "cell_type": "code",
   "execution_count": 34,
   "id": "0a2a1a52",
   "metadata": {},
   "outputs": [
    {
     "data": {
      "text/plain": [
       "22"
      ]
     },
     "execution_count": 34,
     "metadata": {},
     "output_type": "execute_result"
    }
   ],
   "source": [
    "class person:\n",
    "    def __init__(self,name,age):\n",
    "        self.x=name\n",
    "        self.y=age\n",
    "    def __len__(self):\n",
    "        return self.x-self.y\n",
    "        \n",
    "a=person(30,8)        \n",
    "a.__len__()"
   ]
  },
  {
   "cell_type": "code",
   "execution_count": 35,
   "id": "4efc0ee7",
   "metadata": {},
   "outputs": [
    {
     "data": {
      "text/plain": [
       "5"
      ]
     },
     "execution_count": 35,
     "metadata": {},
     "output_type": "execute_result"
    }
   ],
   "source": [
    "class person:\n",
    "    def __init__(self,name):\n",
    "        self.x=name\n",
    "        \n",
    "    def __len__(self):\n",
    "        return len(self.x)\n",
    "a=person(\"disha\")        \n",
    "a.__len__()"
   ]
  },
  {
   "cell_type": "code",
   "execution_count": null,
   "id": "b285d8e2",
   "metadata": {},
   "outputs": [],
   "source": []
  },
  {
   "cell_type": "code",
   "execution_count": null,
   "id": "2b7ee482",
   "metadata": {},
   "outputs": [],
   "source": []
  },
  {
   "cell_type": "code",
   "execution_count": null,
   "id": "a7e226f4",
   "metadata": {},
   "outputs": [],
   "source": []
  },
  {
   "cell_type": "markdown",
   "id": "4f3160a4",
   "metadata": {},
   "source": [
    "# Overloading"
   ]
  },
  {
   "cell_type": "code",
   "execution_count": null,
   "id": "9e4343d8",
   "metadata": {},
   "outputs": [],
   "source": []
  },
  {
   "cell_type": "code",
   "execution_count": 4,
   "id": "005045e7",
   "metadata": {},
   "outputs": [
    {
     "name": "stdout",
     "output_type": "stream",
     "text": [
      "preparing a medium - sized regular.\n",
      "preparing a large - sized carmel.\n"
     ]
    }
   ],
   "source": [
    "# calling a function inside a second function\n",
    "\n",
    "def Coffee_order(size,type_of_coffee):\n",
    "    print(f'preparing a {size} - sized {type_of_coffee}.')\n",
    "    \n",
    "# function overloding based on the number of parameers\n",
    "def make_coffee(size):\n",
    "    Coffee_order(size,\"regular\")\n",
    "    \n",
    "def make_special_coffee(size,special_flavor):\n",
    "    Coffee_order(size,special_flavor)\n",
    "    \n",
    "#example usage\n",
    "make_coffee(\"medium\")\n",
    "make_special_coffee(\"large\",\"carmel\")\n",
    "    "
   ]
  },
  {
   "cell_type": "code",
   "execution_count": 5,
   "id": "77dab5df",
   "metadata": {},
   "outputs": [
    {
     "name": "stdout",
     "output_type": "stream",
     "text": [
      "preparing a medium - sized regular.\n",
      "preparing a large - sized carmel.\n"
     ]
    }
   ],
   "source": [
    "def Coffee_order(size,type_of_coffee):\n",
    "    print(f'preparing a {size} - sized {type_of_coffee}.')\n",
    "    \n",
    "# function overloding based on the number of parameers\n",
    "def make_coffee(size,regular):\n",
    "    Coffee_order(size,regular)\n",
    "    \n",
    "def make_special_coffee(size,special_flavor):\n",
    "    Coffee_order(size,special_flavor)\n",
    "    \n",
    "#example usage\n",
    "make_coffee(\"medium\",\"regular\")\n",
    "make_special_coffee(\"large\",\"carmel\")"
   ]
  },
  {
   "cell_type": "code",
   "execution_count": 3,
   "id": "412fc6c3",
   "metadata": {},
   "outputs": [
    {
     "name": "stdout",
     "output_type": "stream",
     "text": [
      "preparing a medium - sized regular.\n",
      "preparing a large - sized black.\n"
     ]
    }
   ],
   "source": [
    "def Coffee_order(size,type_of_coffee):\n",
    "    print(f'preparing a {size} - sized {type_of_coffee}.')\n",
    "    \n",
    "# function overloding based on the number of parameers\n",
    "def make_coffee(size,regular):\n",
    "    Coffee_order(size,regular)\n",
    "    make_special_coffee(\"large\",\"black\")\n",
    "def make_special_coffee(size,special_flavor):\n",
    "    Coffee_order(size,special_flavor)\n",
    "    \n",
    "#example usage\n",
    "make_coffee(\"medium\",\"regular\")\n"
   ]
  },
  {
   "cell_type": "code",
   "execution_count": 2,
   "id": "e28cb515",
   "metadata": {},
   "outputs": [
    {
     "ename": "TypeError",
     "evalue": "addition() missing 1 required positional argument: 'c'",
     "output_type": "error",
     "traceback": [
      "\u001b[1;31m---------------------------------------------------------------------------\u001b[0m",
      "\u001b[1;31mTypeError\u001b[0m                                 Traceback (most recent call last)",
      "Cell \u001b[1;32mIn[2], line 11\u001b[0m\n\u001b[0;32m      8\u001b[0m     \u001b[38;5;28mprint\u001b[39m(d)\n\u001b[0;32m     10\u001b[0m \u001b[38;5;66;03m# the below line shows an error\u001b[39;00m\n\u001b[1;32m---> 11\u001b[0m addition(\u001b[38;5;241m4\u001b[39m,\u001b[38;5;241m5\u001b[39m)\n",
      "\u001b[1;31mTypeError\u001b[0m: addition() missing 1 required positional argument: 'c'"
     ]
    }
   ],
   "source": [
    "def addition(a,b):\n",
    "    c=a+b\n",
    "    print(c)\n",
    "    \n",
    "    \n",
    "def addition(a,b,c):\n",
    "    d=a+b+c\n",
    "    print(d)\n",
    "    \n",
    "# the below line shows an error\n",
    "addition(4,5)"
   ]
  },
  {
   "cell_type": "code",
   "execution_count": 4,
   "id": "c0ce4974",
   "metadata": {},
   "outputs": [
    {
     "name": "stdout",
     "output_type": "stream",
     "text": [
      "18\n"
     ]
    }
   ],
   "source": [
    "def addition(a,b):\n",
    "    c=a+b\n",
    "    print(c)\n",
    "    \n",
    "    \n",
    "def addition(a,b,c):\n",
    "    d=a+b+c\n",
    "    print(d)\n",
    "    \n",
    "    \n",
    "def addition(a,b,c,d):\n",
    "    e=a+b+c+d\n",
    "    print(e)\n",
    "# the below line shows an error\n",
    "#addition(4,5)\n",
    "\n",
    "# this line will call the second product method\n",
    "#addition(3,7,5)\n",
    "addition(3,4,5,6)"
   ]
  },
  {
   "cell_type": "code",
   "execution_count": 6,
   "id": "3fcd2e92",
   "metadata": {},
   "outputs": [
    {
     "ename": "TypeError",
     "evalue": "unsupported operand type(s) for +: 'Book' and 'Book'",
     "output_type": "error",
     "traceback": [
      "\u001b[1;31m---------------------------------------------------------------------------\u001b[0m",
      "\u001b[1;31mTypeError\u001b[0m                                 Traceback (most recent call last)",
      "Cell \u001b[1;32mIn[6], line 7\u001b[0m\n\u001b[0;32m      5\u001b[0m b1\u001b[38;5;241m=\u001b[39mBook(\u001b[38;5;241m400\u001b[39m)\n\u001b[0;32m      6\u001b[0m b2\u001b[38;5;241m=\u001b[39mBook(\u001b[38;5;241m300\u001b[39m)\n\u001b[1;32m----> 7\u001b[0m \u001b[38;5;28mprint\u001b[39m(b1\u001b[38;5;241m+\u001b[39mb2)\n",
      "\u001b[1;31mTypeError\u001b[0m: unsupported operand type(s) for +: 'Book' and 'Book'"
     ]
    }
   ],
   "source": [
    "class Book:\n",
    "    def __init__(self,pages):\n",
    "        self.p=pages\n",
    "# creating two objects\n",
    "b1=Book(400)\n",
    "b2=Book(300)\n",
    "print(b1+b2)"
   ]
  },
  {
   "cell_type": "markdown",
   "id": "f65a6bed",
   "metadata": {},
   "source": [
    "# Magic Method(Dunder method like doubleunderscore)"
   ]
  },
  {
   "cell_type": "markdown",
   "id": "f4fd0536",
   "metadata": {},
   "source": [
    "Magic methods also known as dunder (double underscore) methods, are special methods in python that start and end with double underscores, such as **int,str,len**,etc.These methods define how objects of a class behave in certain situations and are called automatically by python in response to specific operation."
   ]
  },
  {
   "cell_type": "code",
   "execution_count": 26,
   "id": "f76da34b",
   "metadata": {},
   "outputs": [
    {
     "name": "stdout",
     "output_type": "stream",
     "text": [
      "700\n"
     ]
    }
   ],
   "source": [
    "# add\n",
    "class Book:\n",
    "    def __init__(self,pages):\n",
    "        self.p=pages\n",
    "    def __add__(self,other):\n",
    "        return self.p+other.p\n",
    "# creating two objects\n",
    "b1=Book(400)\n",
    "b2=Book(300)\n",
    "print(b1+b2)"
   ]
  },
  {
   "cell_type": "code",
   "execution_count": 14,
   "id": "e3e310d2",
   "metadata": {},
   "outputs": [
    {
     "name": "stdout",
     "output_type": "stream",
     "text": [
      "120000\n"
     ]
    }
   ],
   "source": [
    "# mul\n",
    "class Book:\n",
    "    def __init__(self,pages):\n",
    "        self.p=pages\n",
    "    def __mul__(self,other):\n",
    "        return self.p*other.p\n",
    "# creating two objects\n",
    "b1=Book(400)\n",
    "b2=Book(300)\n",
    "print(b1*b2)"
   ]
  },
  {
   "cell_type": "code",
   "execution_count": 15,
   "id": "66d00578",
   "metadata": {},
   "outputs": [
    {
     "name": "stdout",
     "output_type": "stream",
     "text": [
      "100\n"
     ]
    }
   ],
   "source": [
    "# sub\n",
    "class Book:\n",
    "    def __init__(self,pages):\n",
    "        self.p=pages\n",
    "    def __sub__(self,other):\n",
    "        return self.p-other.p\n",
    "# creating two objects\n",
    "b1=Book(400)\n",
    "b2=Book(300)\n",
    "print(b1-b2)"
   ]
  },
  {
   "cell_type": "code",
   "execution_count": 16,
   "id": "23e427aa",
   "metadata": {},
   "outputs": [
    {
     "name": "stdout",
     "output_type": "stream",
     "text": [
      "1.3333333333333333\n"
     ]
    }
   ],
   "source": [
    "# division\n",
    "class Book:\n",
    "    def __init__(self,pages):\n",
    "        self.p=pages\n",
    "    def __truediv__(self,other):\n",
    "        return self.p/other.p\n",
    "# creating two objects\n",
    "b1=Book(400)\n",
    "b2=Book(300)\n",
    "print(b1/b2)"
   ]
  },
  {
   "cell_type": "code",
   "execution_count": 17,
   "id": "252e02b2",
   "metadata": {},
   "outputs": [
    {
     "name": "stdout",
     "output_type": "stream",
     "text": [
      "100\n"
     ]
    }
   ],
   "source": [
    "# moduls\n",
    "class Book:\n",
    "    def __init__(self,pages):\n",
    "        self.p=pages\n",
    "    def __mod__(self,other):\n",
    "        return self.p%other.p\n",
    "# creating two objects\n",
    "b1=Book(400)\n",
    "b2=Book(300)\n",
    "print(b1%b2)"
   ]
  },
  {
   "cell_type": "code",
   "execution_count": 18,
   "id": "a284d511",
   "metadata": {},
   "outputs": [
    {
     "name": "stdout",
     "output_type": "stream",
     "text": [
      "1\n"
     ]
    }
   ],
   "source": [
    "# floor division\n",
    "class Book:\n",
    "    def __init__(self,pages):\n",
    "        self.p=pages\n",
    "    def __floordiv__(self,other):\n",
    "        return self.p//other.p\n",
    "# creating two objects\n",
    "b1=Book(400)\n",
    "b2=Book(300)\n",
    "print(b1//b2)"
   ]
  },
  {
   "cell_type": "code",
   "execution_count": 19,
   "id": "ce7569d2",
   "metadata": {},
   "outputs": [
    {
     "name": "stdout",
     "output_type": "stream",
     "text": [
      "True\n"
     ]
    }
   ],
   "source": [
    "# greater than\n",
    "class Book:\n",
    "    def __init__(self,pages):\n",
    "        self.p=pages\n",
    "    def __gt__(self,other):\n",
    "        return self.p>other.p\n",
    "# creating two objects\n",
    "b1=Book(400)\n",
    "b2=Book(300)\n",
    "print(b1>b2)"
   ]
  },
  {
   "cell_type": "code",
   "execution_count": 20,
   "id": "c3b4a5f4",
   "metadata": {},
   "outputs": [
    {
     "name": "stdout",
     "output_type": "stream",
     "text": [
      "False\n"
     ]
    }
   ],
   "source": [
    "# less than\n",
    "class Book:\n",
    "    def __init__(self,pages):\n",
    "        self.p=pages\n",
    "    def __lt__(self,other):\n",
    "        return self.p<other.p\n",
    "# creating two objects\n",
    "b1=Book(400)\n",
    "b2=Book(300)\n",
    "print(b1<b2)"
   ]
  },
  {
   "cell_type": "code",
   "execution_count": 21,
   "id": "5ded8522",
   "metadata": {},
   "outputs": [
    {
     "name": "stdout",
     "output_type": "stream",
     "text": [
      "True\n"
     ]
    }
   ],
   "source": [
    "# greater than equal\n",
    "class Book:\n",
    "    def __init__(self,pages):\n",
    "        self.p=pages\n",
    "    def __ge__(self,other):\n",
    "        return self.p>=other.p\n",
    "# creating two objects\n",
    "b1=Book(400)\n",
    "b2=Book(300)\n",
    "print(b1>=b2)"
   ]
  },
  {
   "cell_type": "code",
   "execution_count": 22,
   "id": "68c57afe",
   "metadata": {},
   "outputs": [
    {
     "name": "stdout",
     "output_type": "stream",
     "text": [
      "False\n"
     ]
    }
   ],
   "source": [
    "# less than equal\n",
    "class Book:\n",
    "    def __init__(self,pages):\n",
    "        self.p=pages\n",
    "    def __le__(self,other):\n",
    "        return self.p<=other.p\n",
    "# creating two objects\n",
    "b1=Book(400)\n",
    "b2=Book(300)\n",
    "print(b1<=b2)"
   ]
  },
  {
   "cell_type": "code",
   "execution_count": 24,
   "id": "191996c6",
   "metadata": {},
   "outputs": [
    {
     "name": "stdout",
     "output_type": "stream",
     "text": [
      "False\n"
     ]
    }
   ],
   "source": [
    "# equal\n",
    "class Book:\n",
    "    def __init__(self,pages):\n",
    "        self.p=pages\n",
    "    def __eq__(self,other):\n",
    "        return self.p==other.p\n",
    "# creating two objects\n",
    "b1=Book(400)\n",
    "b2=Book(300)\n",
    "print(b1==b2)"
   ]
  },
  {
   "cell_type": "code",
   "execution_count": 25,
   "id": "122c5d5e",
   "metadata": {},
   "outputs": [
    {
     "name": "stdout",
     "output_type": "stream",
     "text": [
      "True\n"
     ]
    }
   ],
   "source": [
    "# not equal\n",
    "class Book:\n",
    "    def __init__(self,pages):\n",
    "        self.p=pages\n",
    "    def __ne__(self,other):\n",
    "        return self.p!=other.p\n",
    "# creating two objects\n",
    "b1=Book(400)\n",
    "b2=Book(300)\n",
    "print(b1!=b2)"
   ]
  },
  {
   "cell_type": "code",
   "execution_count": null,
   "id": "9566869f",
   "metadata": {},
   "outputs": [],
   "source": []
  },
  {
   "cell_type": "code",
   "execution_count": null,
   "id": "78b3a108",
   "metadata": {},
   "outputs": [],
   "source": []
  },
  {
   "cell_type": "code",
   "execution_count": null,
   "id": "cbd70a73",
   "metadata": {},
   "outputs": [],
   "source": []
  },
  {
   "cell_type": "code",
   "execution_count": null,
   "id": "009611ef",
   "metadata": {},
   "outputs": [],
   "source": []
  },
  {
   "cell_type": "code",
   "execution_count": null,
   "id": "cfd37b5b",
   "metadata": {},
   "outputs": [],
   "source": []
  },
  {
   "cell_type": "code",
   "execution_count": null,
   "id": "16940554",
   "metadata": {},
   "outputs": [],
   "source": []
  },
  {
   "cell_type": "markdown",
   "id": "db8ddfb3",
   "metadata": {},
   "source": [
    "# what is an instance variable\n",
    "<br> if the value of a variable varies from objects ,then such variable are called instance variables.for every object a separate copy of the instance variable will be created.\n",
    "<br> instance variables are not shared by objects .every objects has its own copy of the instance attribute . this means that for each object of a class, the instances  variable value is defferent.\n",
    "<br> we can access the instance variable using the objects and dot(.)operator."
   ]
  },
  {
   "cell_type": "code",
   "execution_count": 26,
   "id": "88aa5b40",
   "metadata": {},
   "outputs": [],
   "source": [
    "class student:\n",
    "    def __init__(self,name,age):\n",
    "        self.name=name\n",
    "        self.age=age\n"
   ]
  },
  {
   "cell_type": "markdown",
   "id": "b13b087d",
   "metadata": {},
   "source": [
    "# Modify values of instance variable\n",
    "<br> we can modify the value of the instance vqariable and assign a new value to it using the object reference.\n",
    "<br>\n",
    "<br> Note: when you change the instance variable values of one object ,the changes will not be reflected  in the remaining objects because every objects ,maintains a separate copy of the instance variable. "
   ]
  },
  {
   "cell_type": "code",
   "execution_count": 27,
   "id": "33984ae2",
   "metadata": {},
   "outputs": [],
   "source": [
    "class student:\n",
    "    def __init__(self,name,age):\n",
    "        self.name=name\n",
    "        self.age=age\n",
    "s=student(\"ok\",23)\n",
    "s.name=\"pushpendra\"\n",
    "\n"
   ]
  },
  {
   "cell_type": "markdown",
   "id": "a708bbc0",
   "metadata": {},
   "source": [
    "# Access instance variable\n",
    "<br> within the class in instance method by using the object reference (self)"
   ]
  },
  {
   "cell_type": "code",
   "execution_count": 28,
   "id": "319a779d",
   "metadata": {},
   "outputs": [
    {
     "name": "stdout",
     "output_type": "stream",
     "text": [
      "pushpendra\n"
     ]
    }
   ],
   "source": [
    "class student:\n",
    "    def __init__(self,name,age):\n",
    "        self.name=name\n",
    "        self.age=age\n",
    "s=student(\"ok\",23)\n",
    "s.name=\"pushpendra\"\n",
    "print(s.name)"
   ]
  },
  {
   "cell_type": "markdown",
   "id": "b57c63fb",
   "metadata": {},
   "source": [
    "# Dynamically Add instance variable to a object\n",
    "<br> we can add instance variaqbles from the outside of class to a particular object.use the following syntax to add the new instance variable to the object."
   ]
  },
  {
   "cell_type": "code",
   "execution_count": 22,
   "id": "b80029dc",
   "metadata": {},
   "outputs": [
    {
     "name": "stdout",
     "output_type": "stream",
     "text": [
      "before\n",
      "name disha Age 33\n",
      "after\n",
      "name disha Age 33 marks 99\n",
      "name pushp Age 18\n"
     ]
    },
    {
     "ename": "AttributeError",
     "evalue": "'Student' object has no attribute 'marks'",
     "output_type": "error",
     "traceback": [
      "\u001b[1;31m---------------------------------------------------------------------------\u001b[0m",
      "\u001b[1;31mAttributeError\u001b[0m                            Traceback (most recent call last)",
      "Cell \u001b[1;32mIn[22], line 17\u001b[0m\n\u001b[0;32m     15\u001b[0m stud2\u001b[38;5;241m=\u001b[39mStudent(\u001b[38;5;124m\"\u001b[39m\u001b[38;5;124mpushp\u001b[39m\u001b[38;5;124m\"\u001b[39m,\u001b[38;5;241m18\u001b[39m)\n\u001b[0;32m     16\u001b[0m \u001b[38;5;28mprint\u001b[39m(\u001b[38;5;124m\"\u001b[39m\u001b[38;5;124mname\u001b[39m\u001b[38;5;124m\"\u001b[39m,stud2\u001b[38;5;241m.\u001b[39mx,\u001b[38;5;124m\"\u001b[39m\u001b[38;5;124mAge\u001b[39m\u001b[38;5;124m\"\u001b[39m,stud2\u001b[38;5;241m.\u001b[39my)\n\u001b[1;32m---> 17\u001b[0m \u001b[38;5;28mprint\u001b[39m(\u001b[38;5;124m\"\u001b[39m\u001b[38;5;124mname\u001b[39m\u001b[38;5;124m\"\u001b[39m,stud2\u001b[38;5;241m.\u001b[39mx,\u001b[38;5;124m\"\u001b[39m\u001b[38;5;124mAge\u001b[39m\u001b[38;5;124m\"\u001b[39m,stud2\u001b[38;5;241m.\u001b[39my,\u001b[38;5;124m\"\u001b[39m\u001b[38;5;124mmarks\u001b[39m\u001b[38;5;124m\"\u001b[39m,stud2\u001b[38;5;241m.\u001b[39mmarks)\n",
      "\u001b[1;31mAttributeError\u001b[0m: 'Student' object has no attribute 'marks'"
     ]
    }
   ],
   "source": [
    "class Student :\n",
    "    def __init__(self,name,age):\n",
    "        self.x=name\n",
    "        self.y=age\n",
    "# create object \n",
    "stud=Student(\"disha\",33)\n",
    "print(\"before\")\n",
    "print(\"name\",stud.x,\"Age\",stud.y)\n",
    "# add new istance variable marks to stud\n",
    "stud.marks=99\n",
    "print(\"after\")\n",
    "print(\"name\",stud.x,\"Age\",stud.y,\"marks\",stud.marks)\n",
    "\n",
    "# second object\n",
    "stud2=Student(\"pushp\",18)\n",
    "print(\"name\",stud2.x,\"Age\",stud2.y)\n",
    "print(\"name\",stud2.x,\"Age\",stud2.y,\"marks\",stud2.marks)"
   ]
  },
  {
   "cell_type": "code",
   "execution_count": 24,
   "id": "d779bec3",
   "metadata": {},
   "outputs": [
    {
     "ename": "TypeError",
     "evalue": "Student() takes no arguments",
     "output_type": "error",
     "traceback": [
      "\u001b[1;31m---------------------------------------------------------------------------\u001b[0m",
      "\u001b[1;31mTypeError\u001b[0m                                 Traceback (most recent call last)",
      "Cell \u001b[1;32mIn[24], line 6\u001b[0m\n\u001b[0;32m      4\u001b[0m         \u001b[38;5;28mself\u001b[39m\u001b[38;5;241m.\u001b[39my\u001b[38;5;241m=\u001b[39mage\n\u001b[0;32m      5\u001b[0m \u001b[38;5;66;03m# create object                          # extra underscore\u001b[39;00m\n\u001b[1;32m----> 6\u001b[0m stud\u001b[38;5;241m=\u001b[39mStudent(\u001b[38;5;124m\"\u001b[39m\u001b[38;5;124mdisha\u001b[39m\u001b[38;5;124m\"\u001b[39m,\u001b[38;5;241m33\u001b[39m)\n\u001b[0;32m      7\u001b[0m \u001b[38;5;28mprint\u001b[39m(\u001b[38;5;124m\"\u001b[39m\u001b[38;5;124mbefore\u001b[39m\u001b[38;5;124m\"\u001b[39m)\n\u001b[0;32m      8\u001b[0m \u001b[38;5;28mprint\u001b[39m(\u001b[38;5;124m\"\u001b[39m\u001b[38;5;124mname\u001b[39m\u001b[38;5;124m\"\u001b[39m,stud\u001b[38;5;241m.\u001b[39mx,\u001b[38;5;124m\"\u001b[39m\u001b[38;5;124mAge\u001b[39m\u001b[38;5;124m\"\u001b[39m,stud\u001b[38;5;241m.\u001b[39my)\n",
      "\u001b[1;31mTypeError\u001b[0m: Student() takes no arguments"
     ]
    }
   ],
   "source": [
    "class Student :\n",
    "    def __init___(self,name,age):\n",
    "        self.x=name\n",
    "        self.y=age\n",
    "# create object                          # extra underscore\n",
    "stud=Student(\"disha\",33)\n",
    "print(\"before\")\n",
    "print(\"name\",stud.x,\"Age\",stud.y)\n",
    "# add new istance variable marks to stud\n",
    "stud.marks=99\n",
    "print(\"after\")\n",
    "print(\"name\",stud.x,\"Age\",stud.y,\"marks\",stud.marks)"
   ]
  },
  {
   "cell_type": "code",
   "execution_count": null,
   "id": "1b907a15",
   "metadata": {},
   "outputs": [],
   "source": []
  },
  {
   "cell_type": "code",
   "execution_count": null,
   "id": "cadddf0f",
   "metadata": {},
   "outputs": [],
   "source": []
  },
  {
   "cell_type": "markdown",
   "id": "c05770a0",
   "metadata": {},
   "source": [
    "# Dynamecally delete instance variable\n",
    "<br> in python ,we use del statement and delattr()function to delete of an object .both of them same thing"
   ]
  },
  {
   "cell_type": "code",
   "execution_count": 11,
   "id": "7c374a0f",
   "metadata": {
    "scrolled": true
   },
   "outputs": [
    {
     "name": "stdout",
     "output_type": "stream",
     "text": [
      "before\n",
      "name disha Age 33\n",
      "after\n",
      "name disha Age 33 marks 99\n",
      "name pushp Age 18\n"
     ]
    },
    {
     "ename": "AttributeError",
     "evalue": "'Student' object has no attribute 'name'",
     "output_type": "error",
     "traceback": [
      "\u001b[1;31m---------------------------------------------------------------------------\u001b[0m",
      "\u001b[1;31mAttributeError\u001b[0m                            Traceback (most recent call last)",
      "Cell \u001b[1;32mIn[11], line 18\u001b[0m\n\u001b[0;32m     15\u001b[0m stud2\u001b[38;5;241m=\u001b[39mStudent(\u001b[38;5;124m\"\u001b[39m\u001b[38;5;124mpushp\u001b[39m\u001b[38;5;124m\"\u001b[39m,\u001b[38;5;241m18\u001b[39m)\n\u001b[0;32m     16\u001b[0m \u001b[38;5;28mprint\u001b[39m(\u001b[38;5;124m\"\u001b[39m\u001b[38;5;124mname\u001b[39m\u001b[38;5;124m\"\u001b[39m,stud2\u001b[38;5;241m.\u001b[39mx,\u001b[38;5;124m\"\u001b[39m\u001b[38;5;124mAge\u001b[39m\u001b[38;5;124m\"\u001b[39m,stud2\u001b[38;5;241m.\u001b[39my)\n\u001b[1;32m---> 18\u001b[0m \u001b[38;5;28;01mdel\u001b[39;00m stud2\u001b[38;5;241m.\u001b[39mname\n\u001b[0;32m     19\u001b[0m \u001b[38;5;28mprint\u001b[39m(stud2\u001b[38;5;241m.\u001b[39mname)\n",
      "\u001b[1;31mAttributeError\u001b[0m: 'Student' object has no attribute 'name'"
     ]
    }
   ],
   "source": [
    "class Student :\n",
    "    def __init__(self,name,age):\n",
    "        self.x=name\n",
    "        self.y=age\n",
    "# create object \n",
    "stud=Student(\"disha\",33)\n",
    "print(\"before\")\n",
    "print(\"name\",stud.x,\"Age\",stud.y)\n",
    "# add new istance variable marks to stud\n",
    "stud.marks=99\n",
    "print(\"after\")\n",
    "print(\"name\",stud.x,\"Age\",stud.y,\"marks\",stud.marks)\n",
    "\n",
    "# second object\n",
    "stud2=Student(\"pushp\",18)\n",
    "print(\"name\",stud2.x,\"Age\",stud2.y)\n",
    "\n",
    "del stud2.name\n",
    "print(stud2.name)    "
   ]
  },
  {
   "cell_type": "code",
   "execution_count": null,
   "id": "30a6ed1f",
   "metadata": {},
   "outputs": [],
   "source": []
  },
  {
   "cell_type": "markdown",
   "id": "2119d14f",
   "metadata": {},
   "source": [
    "# Access instance variable from Another class"
   ]
  },
  {
   "cell_type": "code",
   "execution_count": 16,
   "id": "72049744",
   "metadata": {},
   "outputs": [
    {
     "name": "stdout",
     "output_type": "stream",
     "text": [
      "max speed 240 engine 1000cc\n"
     ]
    }
   ],
   "source": [
    "class vehicle:\n",
    "    def __init__(self):\n",
    "        self.engine=\"1000cc\"\n",
    "class car(vehicle):\n",
    "    def __init__(self,max_speed):\n",
    "        # call parent class contructor\n",
    "        super().__init__()\n",
    "        self.max_speed=max_speed\n",
    "    def display(self):\n",
    "        print(\"max speed\",self.max_speed,\"engine\",self.engine)\n",
    "        \n",
    "# object of car\n",
    "car1=car(240)\n",
    "car1.display()"
   ]
  },
  {
   "cell_type": "code",
   "execution_count": 13,
   "id": "49b6cc2b",
   "metadata": {},
   "outputs": [
    {
     "name": "stdout",
     "output_type": "stream",
     "text": [
      "max speed 240 engine 100cc\n"
     ]
    }
   ],
   "source": [
    "class vehicle:\n",
    "    def __init__(self):\n",
    "        self.engine=\"100cc\"\n",
    "class car(vehicle):\n",
    "    def __init__(self,max_speed):\n",
    "        # call parent class contructor\n",
    "        super().__init__()\n",
    "        self.max_speed=max_speed\n",
    "    def display(self):\n",
    "        print(\"max speed\",self.max_speed,\"engine\",self.engine)\n",
    "        \n",
    "# object of car\n",
    "car1=car(240)\n",
    "car1.display()"
   ]
  },
  {
   "cell_type": "code",
   "execution_count": 2,
   "id": "a788766a",
   "metadata": {},
   "outputs": [
    {
     "data": {
      "text/plain": [
       "<bound method car.display of <__main__.car object at 0x000000AB31827610>>"
      ]
     },
     "execution_count": 2,
     "metadata": {},
     "output_type": "execute_result"
    }
   ],
   "source": [
    "class vehicle:\n",
    "    def __init__(self):\n",
    "        self.engine=\"100cc\"\n",
    "class car(vehicle):\n",
    "    def __init__(self,max_speed):\n",
    "        # call parent class contructor\n",
    "        super().__init__()\n",
    "        self.max_speed=max_speed\n",
    "    def display(self):\n",
    "        print(\"max speed\",self.max_speed,\"engine\",self.engine)\n",
    "        \n",
    "# object of car\n",
    "car1=car(240)\n",
    "car1.display\n"
   ]
  },
  {
   "cell_type": "code",
   "execution_count": null,
   "id": "255e69db",
   "metadata": {},
   "outputs": [],
   "source": []
  },
  {
   "cell_type": "code",
   "execution_count": null,
   "id": "babe1dfc",
   "metadata": {},
   "outputs": [],
   "source": []
  },
  {
   "cell_type": "code",
   "execution_count": null,
   "id": "aa4fa7bf",
   "metadata": {},
   "outputs": [],
   "source": []
  },
  {
   "cell_type": "code",
   "execution_count": 10,
   "id": "12eed363",
   "metadata": {
    "scrolled": true
   },
   "outputs": [
    {
     "ename": "TypeError",
     "evalue": "car.__init__() missing 1 required positional argument: 'max_speed'",
     "output_type": "error",
     "traceback": [
      "\u001b[1;31m---------------------------------------------------------------------------\u001b[0m",
      "\u001b[1;31mTypeError\u001b[0m                                 Traceback (most recent call last)",
      "Cell \u001b[1;32mIn[10], line 14\u001b[0m\n\u001b[0;32m     12\u001b[0m \u001b[38;5;66;03m# object of car\u001b[39;00m\n\u001b[0;32m     13\u001b[0m car1\u001b[38;5;241m=\u001b[39mcar(\u001b[38;5;241m240\u001b[39m)\n\u001b[1;32m---> 14\u001b[0m car1\u001b[38;5;241m.\u001b[39m\u001b[38;5;21m__init__\u001b[39m()\n",
      "\u001b[1;31mTypeError\u001b[0m: car.__init__() missing 1 required positional argument: 'max_speed'"
     ]
    }
   ],
   "source": [
    "class vehicle:\n",
    "    def __init__(self):\n",
    "        self.engine=\"100cc\"\n",
    "class car(vehicle):\n",
    "    def __init__(self,max_speed):\n",
    "        # call parent class contructor\n",
    "        super().__init__()\n",
    "        self.max_speed=max_speed\n",
    "    def display(self):\n",
    "        print(\"max speed\",self.max_speed,\"engine\",self.engine)\n",
    "        \n",
    "# object of car\n",
    "car1=car(240)\n",
    "car1.__init__()"
   ]
  },
  {
   "cell_type": "code",
   "execution_count": null,
   "id": "385119de",
   "metadata": {},
   "outputs": [],
   "source": []
  },
  {
   "cell_type": "code",
   "execution_count": null,
   "id": "971ee7f8",
   "metadata": {},
   "outputs": [],
   "source": []
  },
  {
   "cell_type": "code",
   "execution_count": null,
   "id": "8fa26391",
   "metadata": {},
   "outputs": [],
   "source": []
  },
  {
   "cell_type": "code",
   "execution_count": 29,
   "id": "e780d7bd",
   "metadata": {},
   "outputs": [],
   "source": [
    "class vehicle:\n",
    "    def __init__(self):\n",
    "        self.engine=\"1000cc\"\n",
    "class car(vehicle):\n",
    "    def __init__(self,max_speed):\n",
    "        # call parent class contructor\n",
    "        super().__init__()\n",
    "        self.max_speed=max_speed\n",
    "    def display(self):\n",
    "        print(\"max speed\",self.max_speed,\"engine\",self.engine)\n",
    "        \n",
    "# object of car\n",
    "\n",
    "car1=car(240)\n",
    "car1.__init__(200)"
   ]
  },
  {
   "cell_type": "markdown",
   "id": "771c4dd7",
   "metadata": {},
   "source": [
    "# List  all instance variables of a objects\n",
    "<br>we can get the list of all the instance variable the object has . Use the __dict__ function of an  object to get all instance variable along with thier value\n",
    "<br> The __dict__ function returns a dictionary that contains variable name as a key and variable value as a vlue."
   ]
  },
  {
   "cell_type": "code",
   "execution_count": 5,
   "id": "6575441a",
   "metadata": {},
   "outputs": [
    {
     "name": "stdout",
     "output_type": "stream",
     "text": [
      "instance variable object has\n",
      "{'roll_no': 12, 'name': 'suryansh'}\n",
      "roll_no = 12\n",
      "name = suryansh\n"
     ]
    }
   ],
   "source": [
    "class Student :\n",
    "    def __init__(self,roll_no,name):\n",
    "        # instance variable\n",
    "        self.roll_no=roll_no\n",
    "        self.name=name\n",
    "s1=Student(12,\"suryansh\")\n",
    "print(\"instance variable object has\")\n",
    "dict1=s1.__dict__\n",
    "print(dict1)\n",
    "\n",
    "\n",
    "\n",
    "# access each instance variable\n",
    "for key_value in dict1.items():\n",
    "    print(key_value[0],\"=\",key_value[1])\n",
    "    "
   ]
  },
  {
   "cell_type": "code",
   "execution_count": 8,
   "id": "d2687c55",
   "metadata": {},
   "outputs": [
    {
     "name": "stdout",
     "output_type": "stream",
     "text": [
      "instance variable object has\n",
      "{'roll_no': 12, 'name': 'suryansh'}\n",
      "roll_no = 12\n",
      "name = suryansh\n"
     ]
    }
   ],
   "source": [
    "class Student :\n",
    "    def __init__(self,roll_no,name):\n",
    "        # instance variable\n",
    "        self.roll_no=roll_no\n",
    "        self.name=name\n",
    "s1=Student(12,\"suryansh\")\n",
    "print(\"instance variable object has\")\n",
    "dict1=s1.__dict__\n",
    "print(dict1)\n",
    "\n",
    "\n",
    "\n",
    "# access each instance variable\n",
    "for key_value in dict1.items():\n",
    "    print(key_value[0],\"=\",key_value[1])"
   ]
  },
  {
   "cell_type": "markdown",
   "id": "60ddfc15",
   "metadata": {},
   "source": [
    "# Python instance methods\n",
    "<br>Inside a Class ,we can define the following two types of methods\n",
    "\n",
    "\n",
    "- Instance methods : Used to access or modify the object state . If use instance variables inside a method ,such methods are called instance methods .It must have a self parameter to refer to the current object.\n",
    "- Class methods : Used to access or modify the class state . in method implementation ,if we use only class variable ,then such type of methods we should declare as a class method . the class has a cls parameter which refers to the class."
   ]
  },
  {
   "cell_type": "markdown",
   "id": "56e2d992",
   "metadata": {},
   "source": [
    "# calling An Instance Methods"
   ]
  },
  {
   "cell_type": "code",
   "execution_count": null,
   "id": "ae85c740",
   "metadata": {},
   "outputs": [],
   "source": []
  },
  {
   "cell_type": "code",
   "execution_count": null,
   "id": "7f919cc5",
   "metadata": {},
   "outputs": [],
   "source": []
  },
  {
   "cell_type": "markdown",
   "id": "5399f0f7",
   "metadata": {},
   "source": [
    "# Modify Instance variable inside instance methods\n"
   ]
  },
  {
   "cell_type": "code",
   "execution_count": 15,
   "id": "4bf3565a",
   "metadata": {},
   "outputs": [
    {
     "name": "stdout",
     "output_type": "stream",
     "text": [
      "class VIII\n",
      "Roll Number : 20 Name : Rabri Devi Age : 14\n",
      "class IX\n",
      "Roll Number : 35 Name : Rabri Devi Age : 15\n",
      "class X\n",
      "Roll Number : 55 Name : Rabri Devi Age : 16\n"
     ]
    }
   ],
   "source": [
    "class Student:\n",
    "    def __init__(self,roll_no,name,age):\n",
    "        # istance variable\n",
    "        self.roll_no=roll_no\n",
    "        self.name=name\n",
    "        self.age=age\n",
    "        \n",
    "   # instance method to  access instance variable\n",
    "    def show(self):\n",
    "        print(\"Roll Number :\",self.roll_no,\"Name :\",self.name,\"Age :\",self.age)\n",
    "        \n",
    "   # instance method to modify instance variable \n",
    "    def updation(self,roll_no,age):\n",
    "        self.roll_no=roll_no\n",
    "        self.age=age\n",
    "# create object\n",
    "print(\"class VIII\")\n",
    "stud=Student(20,\"Rabri Devi\",14)\n",
    "# call instance method\n",
    "stud.show()\n",
    "\n",
    "# Modify instance variables \n",
    "print(\"class IX\")\n",
    "stud.updation(35,15)\n",
    "stud.show()\n",
    "\n",
    "print('class X')\n",
    "stud.updation(55,16)\n",
    "stud.show()"
   ]
  },
  {
   "cell_type": "code",
   "execution_count": null,
   "id": "64a02965",
   "metadata": {},
   "outputs": [],
   "source": []
  },
  {
   "cell_type": "markdown",
   "id": "36a4399e",
   "metadata": {},
   "source": [
    "# Create instance variable in instance methods\n",
    "<br> Till the time we used constructor to create instance attributes . But , instance attributes are not specific only to the __init__() method, they can be defined elsewhere in the class . so let's see how to create an instance variable inside the method"
   ]
  },
  {
   "cell_type": "code",
   "execution_count": 12,
   "id": "aa49a5f3",
   "metadata": {},
   "outputs": [
    {
     "name": "stdout",
     "output_type": "stream",
     "text": [
      "Roll Number: 20 Name: Meethai Lal Age: 75\n"
     ]
    }
   ],
   "source": [
    "class Student:\n",
    "    def __init__(self,roll_no,name,age):\n",
    "        # istance variable\n",
    "        self.roll_no=roll_no\n",
    "        self.name=name\n",
    "        self.age=age\n",
    "        \n",
    "   # instance method to add instance variable\n",
    "    def add_marks(self,marks):\n",
    "        # add new attribute to current object\n",
    "        self.marks=marks\n",
    "        \n",
    "        \n",
    "# create object\n",
    "stud=Student(20,\"Meethai Lal\",19)\n",
    "# call instance method\n",
    "stud.add_marks(75)\n",
    "\n",
    "# display object\n",
    "print(\"Roll Number:\",stud.roll_no,\"Name:\",stud.name,\"Age:\",stud.marks)"
   ]
  },
  {
   "cell_type": "markdown",
   "id": "16d7dc97",
   "metadata": {},
   "source": [
    "#  Dynamecally add instance method to  a object"
   ]
  },
  {
   "cell_type": "code",
   "execution_count": null,
   "id": "7b1a809e",
   "metadata": {},
   "outputs": [],
   "source": []
  },
  {
   "cell_type": "code",
   "execution_count": null,
   "id": "3309e742",
   "metadata": {},
   "outputs": [],
   "source": []
  },
  {
   "cell_type": "code",
   "execution_count": null,
   "id": "140b1721",
   "metadata": {},
   "outputs": [],
   "source": []
  },
  {
   "cell_type": "code",
   "execution_count": null,
   "id": "8b43f510",
   "metadata": {},
   "outputs": [],
   "source": []
  },
  {
   "cell_type": "code",
   "execution_count": null,
   "id": "afe5e519",
   "metadata": {},
   "outputs": [],
   "source": []
  },
  {
   "cell_type": "code",
   "execution_count": null,
   "id": "6aee9c23",
   "metadata": {},
   "outputs": [],
   "source": []
  },
  {
   "cell_type": "code",
   "execution_count": null,
   "id": "73fcf6d5",
   "metadata": {},
   "outputs": [],
   "source": []
  },
  {
   "cell_type": "code",
   "execution_count": null,
   "id": "ccc54e2f",
   "metadata": {},
   "outputs": [],
   "source": []
  },
  {
   "cell_type": "code",
   "execution_count": null,
   "id": "d9de45de",
   "metadata": {},
   "outputs": [],
   "source": []
  },
  {
   "cell_type": "code",
   "execution_count": null,
   "id": "d501c1d8",
   "metadata": {},
   "outputs": [],
   "source": []
  },
  {
   "cell_type": "code",
   "execution_count": null,
   "id": "ea5fb29d",
   "metadata": {},
   "outputs": [],
   "source": []
  },
  {
   "cell_type": "code",
   "execution_count": null,
   "id": "a7ebc332",
   "metadata": {},
   "outputs": [],
   "source": []
  },
  {
   "cell_type": "code",
   "execution_count": null,
   "id": "6c07e6b8",
   "metadata": {},
   "outputs": [],
   "source": []
  },
  {
   "cell_type": "code",
   "execution_count": null,
   "id": "fcc74977",
   "metadata": {},
   "outputs": [],
   "source": []
  },
  {
   "cell_type": "code",
   "execution_count": null,
   "id": "72bb6da1",
   "metadata": {},
   "outputs": [],
   "source": []
  },
  {
   "cell_type": "code",
   "execution_count": null,
   "id": "ea63f684",
   "metadata": {},
   "outputs": [],
   "source": []
  },
  {
   "cell_type": "code",
   "execution_count": 11,
   "id": "4e56a33e",
   "metadata": {},
   "outputs": [
    {
     "name": "stdout",
     "output_type": "stream",
     "text": [
      "suryansh 12 200000\n"
     ]
    }
   ],
   "source": [
    "class student:\n",
    "    def __init__(self,name,age,salary):\n",
    "        self.n=name\n",
    "        self.a=age\n",
    "        self.s=salary\n",
    "    def show(self):\n",
    "        print(self.n,self.a,self.s)\n",
    "a=student(\"suryansh\",12,200000)\n",
    "a.show()"
   ]
  },
  {
   "cell_type": "code",
   "execution_count": 12,
   "id": "34c91650",
   "metadata": {},
   "outputs": [
    {
     "ename": "TypeError",
     "evalue": "student() takes no arguments",
     "output_type": "error",
     "traceback": [
      "\u001b[1;31m---------------------------------------------------------------------------\u001b[0m",
      "\u001b[1;31mTypeError\u001b[0m                                 Traceback (most recent call last)",
      "Cell \u001b[1;32mIn[12], line 8\u001b[0m\n\u001b[0;32m      6\u001b[0m     \u001b[38;5;28;01mdef\u001b[39;00m \u001b[38;5;21mshow\u001b[39m(\u001b[38;5;28mself\u001b[39m):\n\u001b[0;32m      7\u001b[0m         \u001b[38;5;28mprint\u001b[39m(\u001b[38;5;28mself\u001b[39m\u001b[38;5;241m.\u001b[39mn,\u001b[38;5;28mself\u001b[39m\u001b[38;5;241m.\u001b[39ma,\u001b[38;5;28mself\u001b[39m\u001b[38;5;241m.\u001b[39ms)\n\u001b[1;32m----> 8\u001b[0m a\u001b[38;5;241m=\u001b[39mstudent(\u001b[38;5;124m\"\u001b[39m\u001b[38;5;124msuryansh\u001b[39m\u001b[38;5;124m\"\u001b[39m,\u001b[38;5;241m12\u001b[39m,\u001b[38;5;241m200000\u001b[39m)\n\u001b[0;32m      9\u001b[0m a\u001b[38;5;241m.\u001b[39mshow()\n",
      "\u001b[1;31mTypeError\u001b[0m: student() takes no arguments"
     ]
    }
   ],
   "source": [
    "class student:\n",
    "    def __del__(self,name,age,salary):\n",
    "        self.n=name\n",
    "        self.a=age\n",
    "        self.s=salary\n",
    "    def show(self):\n",
    "        print(self.n,self.a,self.s)\n",
    "a=student(\"suryansh\",12,200000)\n",
    "a.show()"
   ]
  },
  {
   "cell_type": "code",
   "execution_count": 13,
   "id": "f25dcd69",
   "metadata": {},
   "outputs": [
    {
     "ename": "TypeError",
     "evalue": "student() takes no arguments",
     "output_type": "error",
     "traceback": [
      "\u001b[1;31m---------------------------------------------------------------------------\u001b[0m",
      "\u001b[1;31mTypeError\u001b[0m                                 Traceback (most recent call last)",
      "Cell \u001b[1;32mIn[13], line 8\u001b[0m\n\u001b[0;32m      6\u001b[0m     \u001b[38;5;28;01mdef\u001b[39;00m \u001b[38;5;21mshow\u001b[39m(\u001b[38;5;28mself\u001b[39m):\n\u001b[0;32m      7\u001b[0m         \u001b[38;5;28mprint\u001b[39m(\u001b[38;5;28mself\u001b[39m\u001b[38;5;241m.\u001b[39mn,\u001b[38;5;28mself\u001b[39m\u001b[38;5;241m.\u001b[39ma,\u001b[38;5;28mself\u001b[39m\u001b[38;5;241m.\u001b[39ms)\n\u001b[1;32m----> 8\u001b[0m a\u001b[38;5;241m=\u001b[39mstudent(\u001b[38;5;124m\"\u001b[39m\u001b[38;5;124msuryansh\u001b[39m\u001b[38;5;124m\"\u001b[39m,\u001b[38;5;241m12\u001b[39m,\u001b[38;5;241m200000\u001b[39m)\n\u001b[0;32m      9\u001b[0m a\u001b[38;5;241m.\u001b[39mshow()\n",
      "\u001b[1;31mTypeError\u001b[0m: student() takes no arguments"
     ]
    }
   ],
   "source": [
    "class student:\n",
    "    def __del__(self,name,age,salary):\n",
    "        self.n=name\n",
    "        self.a=age\n",
    "        self.s=salary\n",
    "    def show(self):\n",
    "        print(self.n,self.a,self.s)\n",
    "a=student(\"suryansh\",12,200000)\n",
    "a.show()"
   ]
  },
  {
   "cell_type": "code",
   "execution_count": 1,
   "id": "0182fd8c",
   "metadata": {
    "scrolled": true
   },
   "outputs": [
    {
     "name": "stdout",
     "output_type": "stream",
     "text": [
      "kijj\n"
     ]
    }
   ],
   "source": [
    "class student:\n",
    "    def __del__(self,name,age,salary):\n",
    "        self.n=name\n",
    "        self.a=age\n",
    "        self.s=salary\n",
    "    def show(self):\n",
    "        print('kijj')\n",
    "a=student()\n",
    "a.show()"
   ]
  },
  {
   "cell_type": "code",
   "execution_count": 3,
   "id": "6c6fba6c",
   "metadata": {
    "scrolled": true
   },
   "outputs": [
    {
     "name": "stdout",
     "output_type": "stream",
     "text": [
      "[1, 2, 3, 67]\n"
     ]
    }
   ],
   "source": [
    "l=[1,2,3];l.append(67);print(l)"
   ]
  },
  {
   "cell_type": "markdown",
   "id": "cccfb256",
   "metadata": {},
   "source": [
    "# Comprehension\n",
    "<br> comprehension only work from mutable data type .like LSD(list,set,dictionary)."
   ]
  },
  {
   "cell_type": "code",
   "execution_count": 7,
   "id": "0359cbce",
   "metadata": {},
   "outputs": [
    {
     "data": {
      "text/plain": [
       "'helloworld'"
      ]
     },
     "execution_count": 7,
     "metadata": {},
     "output_type": "execute_result"
    }
   ],
   "source": [
    "a=\"hello\"\n",
    "b=\"world\"\n",
    "a+b\n",
    "\n"
   ]
  },
  {
   "cell_type": "code",
   "execution_count": 6,
   "id": "ed3ecd6c",
   "metadata": {},
   "outputs": [],
   "source": [
    "\n",
    "    # oops ke under comprehension inside a variable\n",
    "    # positional argment"
   ]
  },
  {
   "cell_type": "code",
   "execution_count": 7,
   "id": "1f989086",
   "metadata": {},
   "outputs": [
    {
     "name": "stdout",
     "output_type": "stream",
     "text": [
      "['*', '*', '*']\n"
     ]
    }
   ],
   "source": [
    "class equetion:\n",
    "    def __init__(self,a,b):\n",
    "        self.a=a\n",
    "        self.b=[\"*\"for i in b]\n",
    "                    \n",
    "    def show(self):\n",
    "        print(self.b)\n",
    "a=equetion(\"hello\",[1,2,3])\n",
    "a.show()\n",
    "            "
   ]
  },
  {
   "cell_type": "code",
   "execution_count": 14,
   "id": "bc20524a",
   "metadata": {},
   "outputs": [
    {
     "name": "stdout",
     "output_type": "stream",
     "text": [
      "['*', '*', '*', '*']\n"
     ]
    }
   ],
   "source": [
    "class equetion:\n",
    "    def __init__(self,a,b=range(1,5)):\n",
    "        self.a=a\n",
    "        self.b=[\"*\"for i in b]\n",
    "                    \n",
    "    def show(self):\n",
    "        print(self.b)\n",
    "a=equetion(\"hello\")\n",
    "a.show()\n",
    "            "
   ]
  },
  {
   "cell_type": "code",
   "execution_count": 20,
   "id": "91c0c489",
   "metadata": {},
   "outputs": [
    {
     "name": "stdout",
     "output_type": "stream",
     "text": [
      "{'*'}\n"
     ]
    }
   ],
   "source": [
    "# parameter me positional and default arg ## comprehension ko set banaya\n",
    "class equetion:\n",
    "    def __init__(self,a,b=range(1,5)):\n",
    "        self.a=a\n",
    "        self.b={\"*\"for i in b}\n",
    "                    \n",
    "    def show(self):\n",
    "        print(self.b)\n",
    "a=equetion(\"hello\")\n",
    "a.show()\n",
    "            "
   ]
  },
  {
   "cell_type": "code",
   "execution_count": 33,
   "id": "874fecc9",
   "metadata": {},
   "outputs": [
    {
     "name": "stdout",
     "output_type": "stream",
     "text": [
      "{'1': '*'}\n"
     ]
    }
   ],
   "source": [
    "class equetion:\n",
    "    def __init__(self,a,b=range(1,5)):\n",
    "        self.a=a\n",
    "        self.b={\"1\":\"*\"for i in b}\n",
    "                    \n",
    "    def show(self):\n",
    "        print(self.b)\n",
    "a=equetion(\"hello\")\n",
    "a.show()\n",
    "            "
   ]
  },
  {
   "cell_type": "code",
   "execution_count": 35,
   "id": "2d19399b",
   "metadata": {},
   "outputs": [
    {
     "name": "stdout",
     "output_type": "stream",
     "text": [
      "<generator object equetion.__init__.<locals>.<genexpr> at 0x00000095A228ACF0>\n"
     ]
    }
   ],
   "source": [
    "# parameter me positional and default arg ## comprehension ko tuple banaya\n",
    "class equetion:\n",
    "    def __init__(self,a,b=range(1,5)):\n",
    "        self.a=a\n",
    "        self.b=(i for i in b)\n",
    "                    \n",
    "    def show(self):\n",
    "        print(self.b)\n",
    "a=equetion(\"hello\")\n",
    "a.show()\n",
    "            "
   ]
  },
  {
   "cell_type": "code",
   "execution_count": 30,
   "id": "97872588",
   "metadata": {},
   "outputs": [
    {
     "name": "stdout",
     "output_type": "stream",
     "text": [
      "<generator object equetion.__init__.<locals>.<genexpr> at 0x00000095A23602B0>\n"
     ]
    }
   ],
   "source": [
    "class equetion:\n",
    "    def __init__(self,a,b=[1,5]):\n",
    "        self.a=a\n",
    "        self.b=(\"*\"for i in b)\n",
    "                    \n",
    "    def show(self):\n",
    "        print(self.b)\n",
    "a=equetion(\"hello\")\n",
    "a.show()\n",
    "            "
   ]
  },
  {
   "cell_type": "code",
   "execution_count": 18,
   "id": "b6d59e9d",
   "metadata": {},
   "outputs": [
    {
     "name": "stdout",
     "output_type": "stream",
     "text": [
      "{1}\n"
     ]
    }
   ],
   "source": [
    "class equetion:\n",
    "    def __init__(self,a,b=range(1,5)):\n",
    "        self.a=a\n",
    "        self.b={1 for i in b}\n",
    "                    \n",
    "    def show(self):\n",
    "        print(self.b)\n",
    "a=equetion(\"hello\")\n",
    "a.show()\n",
    "            "
   ]
  },
  {
   "cell_type": "code",
   "execution_count": 1,
   "id": "cb41538a",
   "metadata": {
    "scrolled": true
   },
   "outputs": [
    {
     "name": "stdout",
     "output_type": "stream",
     "text": [
      "{1}\n"
     ]
    },
    {
     "name": "stderr",
     "output_type": "stream",
     "text": [
      "<>:4: SyntaxWarning: invalid decimal literal\n",
      "<>:4: SyntaxWarning: invalid decimal literal\n",
      "C:\\Users\\hp\\AppData\\Local\\Temp\\ipykernel_9020\\3083357617.py:4: SyntaxWarning: invalid decimal literal\n",
      "  self.b={1for i in b}\n"
     ]
    }
   ],
   "source": [
    "class equetion:\n",
    "    def __init__(self,a,b=range(1,5)):\n",
    "        self.a=a\n",
    "        self.b={1for i in b}\n",
    "                    \n",
    "    def show(self):\n",
    "        print(self.b)\n",
    "a=equetion(\"hello\")\n",
    "a.show()\n",
    "            \n",
    "    "
   ]
  },
  {
   "cell_type": "code",
   "execution_count": null,
   "id": "422893e2",
   "metadata": {},
   "outputs": [],
   "source": []
  },
  {
   "cell_type": "code",
   "execution_count": 53,
   "id": "a791b12a",
   "metadata": {},
   "outputs": [
    {
     "name": "stdout",
     "output_type": "stream",
     "text": [
      "{1, 2, 3, 4}\n"
     ]
    }
   ],
   "source": [
    "class equetion:\n",
    "    def __init__(self,a,b=range(1,5)):\n",
    "        self.a=a\n",
    "        self.b={i for i in b}\n",
    "                    \n",
    "    def show(self):\n",
    "        print(self.b)\n",
    "a=equetion(\"hello\")\n",
    "a.show()\n",
    "            "
   ]
  },
  {
   "cell_type": "code",
   "execution_count": 56,
   "id": "da8fa831",
   "metadata": {},
   "outputs": [
    {
     "name": "stdout",
     "output_type": "stream",
     "text": [
      "[{1}, {1}, {1}, {1}]\n"
     ]
    }
   ],
   "source": [
    "class equetion:\n",
    "    def __init__(self,a,b=range(1,5)):\n",
    "        self.a=a\n",
    "        self.b=[{1} for i in b]\n",
    "                    \n",
    "    def show(self):\n",
    "        print(self.b)\n",
    "a=equetion(\"hello\")\n",
    "a.show()\n",
    "            "
   ]
  },
  {
   "cell_type": "code",
   "execution_count": 1,
   "id": "50ec5ec1",
   "metadata": {},
   "outputs": [
    {
     "name": "stdout",
     "output_type": "stream",
     "text": [
      "[[1], [5], [2], [6], [3], [8], [4]]\n"
     ]
    }
   ],
   "source": [
    "class equetion:\n",
    "    def __init__(self,a,b=[1,5,2,6,3,8,4]):\n",
    "        o=[]\n",
    "        self.a=a\n",
    "        self.b=[sorted({i}) for i in b]\n",
    "                    \n",
    "    def show(self):\n",
    "        print(self.b)\n",
    "a=equetion(\"hello\")\n",
    "a.show()"
   ]
  },
  {
   "cell_type": "code",
   "execution_count": 73,
   "id": "fa157928",
   "metadata": {},
   "outputs": [
    {
     "name": "stdout",
     "output_type": "stream",
     "text": [
      "[{1}, {5}, {2}, {6}, {3}, {8}, {4}]\n"
     ]
    }
   ],
   "source": [
    "class equetion:\n",
    "    def __init__(self,a,b=[1,5,2,6,3,8,4]):\n",
    "        o=[]\n",
    "        self.a=a\n",
    "        self.b=[{i} for i in b]\n",
    "                    \n",
    "    def show(self):\n",
    "        print(self.b)\n",
    "a=equetion(\"hello\")\n",
    "a.show()"
   ]
  },
  {
   "cell_type": "code",
   "execution_count": 75,
   "id": "f3e124b6",
   "metadata": {},
   "outputs": [
    {
     "name": "stdout",
     "output_type": "stream",
     "text": [
      "[[1], [5], [2], [6], [3], [8], [4]]\n"
     ]
    }
   ],
   "source": [
    "class equetion:\n",
    "    def __init__(self,a,b=[1,5,2,6,3,8,4]):\n",
    "        o=[]\n",
    "        self.a=a\n",
    "        self.b=[sorted([i]) for i in b]\n",
    "                    \n",
    "    def show(self):\n",
    "        print(self.b)\n",
    "a=equetion(\"hello\")\n",
    "a.show()"
   ]
  },
  {
   "cell_type": "code",
   "execution_count": 76,
   "id": "2585a934",
   "metadata": {},
   "outputs": [
    {
     "ename": "TypeError",
     "evalue": "'int' object is not iterable",
     "output_type": "error",
     "traceback": [
      "\u001b[1;31m---------------------------------------------------------------------------\u001b[0m",
      "\u001b[1;31mTypeError\u001b[0m                                 Traceback (most recent call last)",
      "Cell \u001b[1;32mIn[76], line 9\u001b[0m\n\u001b[0;32m      7\u001b[0m     \u001b[38;5;28;01mdef\u001b[39;00m \u001b[38;5;21mshow\u001b[39m(\u001b[38;5;28mself\u001b[39m):\n\u001b[0;32m      8\u001b[0m         \u001b[38;5;28mprint\u001b[39m(\u001b[38;5;28mself\u001b[39m\u001b[38;5;241m.\u001b[39mb)\n\u001b[1;32m----> 9\u001b[0m a\u001b[38;5;241m=\u001b[39mequetion(\u001b[38;5;124m\"\u001b[39m\u001b[38;5;124mhello\u001b[39m\u001b[38;5;124m\"\u001b[39m)\n\u001b[0;32m     10\u001b[0m a\u001b[38;5;241m.\u001b[39mshow()\n",
      "Cell \u001b[1;32mIn[76], line 5\u001b[0m, in \u001b[0;36mequetion.__init__\u001b[1;34m(self, a, b)\u001b[0m\n\u001b[0;32m      3\u001b[0m o\u001b[38;5;241m=\u001b[39m[]\n\u001b[0;32m      4\u001b[0m \u001b[38;5;28mself\u001b[39m\u001b[38;5;241m.\u001b[39ma\u001b[38;5;241m=\u001b[39ma\n\u001b[1;32m----> 5\u001b[0m \u001b[38;5;28mself\u001b[39m\u001b[38;5;241m.\u001b[39mb\u001b[38;5;241m=\u001b[39m[\u001b[38;5;28msorted\u001b[39m(i) \u001b[38;5;28;01mfor\u001b[39;00m i \u001b[38;5;129;01min\u001b[39;00m b]\n",
      "Cell \u001b[1;32mIn[76], line 5\u001b[0m, in \u001b[0;36m<listcomp>\u001b[1;34m(.0)\u001b[0m\n\u001b[0;32m      3\u001b[0m o\u001b[38;5;241m=\u001b[39m[]\n\u001b[0;32m      4\u001b[0m \u001b[38;5;28mself\u001b[39m\u001b[38;5;241m.\u001b[39ma\u001b[38;5;241m=\u001b[39ma\n\u001b[1;32m----> 5\u001b[0m \u001b[38;5;28mself\u001b[39m\u001b[38;5;241m.\u001b[39mb\u001b[38;5;241m=\u001b[39m[\u001b[38;5;28msorted\u001b[39m(i) \u001b[38;5;28;01mfor\u001b[39;00m i \u001b[38;5;129;01min\u001b[39;00m b]\n",
      "\u001b[1;31mTypeError\u001b[0m: 'int' object is not iterable"
     ]
    }
   ],
   "source": [
    "class equetion:\n",
    "    def __init__(self,a,b=[1,5,2,6,3,8,4]):\n",
    "        o=[]\n",
    "        self.a=a\n",
    "        self.b=[sorted(i) for i in b]\n",
    "                    \n",
    "    def show(self):\n",
    "        print(self.b)\n",
    "a=equetion(\"hello\")\n",
    "a.show()"
   ]
  },
  {
   "cell_type": "code",
   "execution_count": 65,
   "id": "610cb7e6",
   "metadata": {},
   "outputs": [
    {
     "name": "stdout",
     "output_type": "stream",
     "text": [
      "[[[[1]]], [[[2]]], [[[3]]], [[[4]]]]\n"
     ]
    }
   ],
   "source": [
    "class equetion:\n",
    "    def __init__(self,a,b=range(1,5)):\n",
    "        \n",
    "        self.a=a\n",
    "        self.b=[[[[i]]]for i in b]\n",
    "        \n",
    "                    \n",
    "    def show(self):\n",
    "        print(self.b)\n",
    "a=equetion(\"hello\")\n",
    "a.show()"
   ]
  },
  {
   "cell_type": "code",
   "execution_count": 52,
   "id": "b7f24239",
   "metadata": {},
   "outputs": [
    {
     "ename": "SyntaxError",
     "evalue": "did you forget parentheses around the comprehension target? (874456635.py, line 5)",
     "output_type": "error",
     "traceback": [
      "\u001b[1;36m  Cell \u001b[1;32mIn[52], line 5\u001b[1;36m\u001b[0m\n\u001b[1;33m    self.b=[i,o.append(i) for i in b]\u001b[0m\n\u001b[1;37m            ^\u001b[0m\n\u001b[1;31mSyntaxError\u001b[0m\u001b[1;31m:\u001b[0m did you forget parentheses around the comprehension target?\n"
     ]
    }
   ],
   "source": [
    "class equetion:\n",
    "    def __init__(self,a,b=range(1,5)):\n",
    "        o=[]\n",
    "        self.a=a\n",
    "        self.b=[i,o.append(i) for i in b]\n",
    "                    \n",
    "    def show(self):\n",
    "        print(self.b)\n",
    "a=equetion(\"hello\")\n",
    "a.show()"
   ]
  },
  {
   "cell_type": "code",
   "execution_count": 15,
   "id": "6d7bcf72",
   "metadata": {},
   "outputs": [
    {
     "name": "stdout",
     "output_type": "stream",
     "text": [
      "[86, 8, 23, 24, 42]\n",
      "[86, 75, 8, 23, 24, 42]\n",
      "[86, 75, 8, 23, 24, 42, 'h', 'e', 'l', 'l', 'o', ' ', 'd', 'i']\n",
      "[86, 75, 8, 23, 24, 42, 'h', 'e', 'l', 'l', 'o', ' ', 'd', 'i', 'hello di']\n"
     ]
    }
   ],
   "source": [
    "l=[86,8,23,24 ]\n",
    "l.append(42);print(l)\n",
    "l.insert(1,75);print(l)\n",
    "l.extend(\"hello di\");print(l)\n",
    "l.extend([\"hello di\"]);print(l)"
   ]
  },
  {
   "cell_type": "code",
   "execution_count": 16,
   "id": "a74b44c5",
   "metadata": {},
   "outputs": [
    {
     "name": "stdout",
     "output_type": "stream",
     "text": [
      "[86, 75, 8, 23, 24, 42, 'h', 'e', 'l', 'l', 'o', ' ', 'd', 'i', 'hello di', 'hello di']\n",
      "[86, 75, 8, 23, 24, 42, 'h', 'e', 'l', 'l', 'o', ' ', 'd', 'i', 'hello di', 'hello di', 'hello di']\n"
     ]
    }
   ],
   "source": [
    "l.extend([\"hello di\"]);print(l);l.extend([\"hello di\"]);print(l)"
   ]
  },
  {
   "cell_type": "code",
   "execution_count": null,
   "id": "ad3b4a54",
   "metadata": {},
   "outputs": [],
   "source": []
  },
  {
   "cell_type": "code",
   "execution_count": 3,
   "id": "0db7556f",
   "metadata": {},
   "outputs": [
    {
     "name": "stdout",
     "output_type": "stream",
     "text": [
      "this is Dog class\n"
     ]
    }
   ],
   "source": [
    "class Animal:\n",
    "    def show_name(self):\n",
    "        print(\"this is Animal class\")\n",
    "        \n",
    "class Dog(Animal):\n",
    "    def show_name(self):               # overriding child method\n",
    "        print(\"this is Dog class\")\n",
    "        \n",
    "dog1=Dog()\n",
    "dog1.show_name()\n",
    "        "
   ]
  },
  {
   "cell_type": "code",
   "execution_count": null,
   "id": "6de5f46e",
   "metadata": {},
   "outputs": [],
   "source": []
  }
 ],
 "metadata": {
  "kernelspec": {
   "display_name": "Python 3 (ipykernel)",
   "language": "python",
   "name": "python3"
  },
  "language_info": {
   "codemirror_mode": {
    "name": "ipython",
    "version": 3
   },
   "file_extension": ".py",
   "mimetype": "text/x-python",
   "name": "python",
   "nbconvert_exporter": "python",
   "pygments_lexer": "ipython3",
   "version": "3.11.5"
  }
 },
 "nbformat": 4,
 "nbformat_minor": 5
}
